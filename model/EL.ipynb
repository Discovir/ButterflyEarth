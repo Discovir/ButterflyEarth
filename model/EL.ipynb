{
 "cells": [
  {
   "cell_type": "code",
   "execution_count": 1,
   "metadata": {},
   "outputs": [],
   "source": [
    "import numpy as np\n",
    "import pandas as pd\n",
    "import tensorflow as tf\n",
    "from sklearn.model_selection import train_test_split\n",
    "from sklearn.preprocessing import StandardScaler\n",
    "from tensorflow.keras.models import Sequential\n",
    "from tensorflow.keras.layers import Dense, Dropout, LSTM\n",
    "from tensorflow.keras.optimizers import Adam\n",
    "import matplotlib.pyplot as plt\n",
    "import requests\n",
    "from io import StringIO"
   ]
  },
  {
   "metadata": {
    "ExecuteTime": {
     "end_time": "2024-10-11T11:57:52.714236Z",
     "start_time": "2024-10-11T11:57:50.701468Z"
    }
   },
   "cell_type": "code",
   "source": [
    "import joblib\n",
    "from sklearn.ensemble import RandomForestClassifier\n",
    "\n",
    "# Create a scikit-learn model\n",
    "model = RandomForestClassifier()\n",
    "\n",
    "# Train the model on your data\n",
    "\n",
    "# Save the model to a file\n",
    "joblib.dump(model, 'EL')"
   ],
   "outputs": [
    {
     "data": {
      "text/plain": [
       "['EL']"
      ]
     },
     "execution_count": 1,
     "metadata": {},
     "output_type": "execute_result"
    }
   ],
   "execution_count": 1
  },
  {
   "cell_type": "markdown",
   "metadata": {},
   "source": [
    "## 1. Data Collection\n"
   ]
  },
  {
   "cell_type": "code",
   "execution_count": 2,
   "metadata": {},
   "outputs": [],
   "source": [
    "def fetch_nasa_data(dataset_url):\n",
    "    response = requests.get(dataset_url)\n",
    "    data = pd.read_csv(StringIO(response.text))\n",
    "    return data\n",
    "# Simulating NASA data URLs (replace with actual NASA API endpoints when available)\n",
    "nasa_urls = {\n",
    "    'wildfires': 'https://example.nasa.gov/wildfire_data.csv',\n",
    "    'air_quality': 'https://example.nasa.gov/air_quality_data.csv',\n",
    "    'water_resources': 'https://example.nasa.gov/water_resources_data.csv',\n",
    "    'economic_indicators': 'https://example.nasa.gov/economic_indicators.csv'\n",
    "}"
   ]
  },
  {
   "cell_type": "markdown",
   "metadata": {},
   "source": [
    "## 2. Data Preprocessing\n",
    "\n"
   ]
  },
  {
   "cell_type": "code",
   "execution_count": 3,
   "metadata": {},
   "outputs": [],
   "source": [
    "def preprocess_data(data_dict):\n",
    "    combined_data = pd.concat([data_dict[key] for key in data_dict], axis=1)\n",
    "    combined_data = combined_data.dropna()\n",
    "    \n",
    "    X = combined_data.drop('economic_impact', axis=1)\n",
    "    y = combined_data['economic_impact']\n",
    "    \n",
    "    scaler = StandardScaler()\n",
    "    X_scaled = scaler.fit_transform(X)\n",
    "    \n",
    "    X_train, X_test, y_train, y_test = train_test_split(X_scaled, y, test_size=0.2, random_state=42)\n",
    "    \n",
    "    return X_train, X_test, y_train, y_test, scaler"
   ]
  },
  {
   "cell_type": "markdown",
   "metadata": {},
   "source": [
    "## 3. Model Creation\n"
   ]
  },
  {
   "cell_type": "code",
   "execution_count": 4,
   "metadata": {},
   "outputs": [],
   "source": [
    "def create_model(input_shape):\n",
    "    model = Sequential([\n",
    "        LSTM(64, return_sequences=True, input_shape=input_shape),\n",
    "        Dropout(0.2),\n",
    "        LSTM(32),\n",
    "        Dropout(0.2),\n",
    "        Dense(16, activation='relu'),\n",
    "        Dense(1)\n",
    "    ])\n",
    "    model.compile(optimizer=Adam(learning_rate=0.001), loss='mse', metrics=['mae'])\n",
    "    return model"
   ]
  },
  {
   "cell_type": "markdown",
   "metadata": {},
   "source": [
    "## 4. Model Training\n"
   ]
  },
  {
   "cell_type": "code",
   "execution_count": 5,
   "metadata": {},
   "outputs": [],
   "source": [
    "def train_model(model, X_train, y_train):\n",
    "    history = model.fit(X_train, y_train, epochs=100, batch_size=32, validation_split=0.2, verbose=0)\n",
    "    return history"
   ]
  },
  {
   "cell_type": "markdown",
   "metadata": {},
   "source": [
    "## 5. Visualization\n"
   ]
  },
  {
   "cell_type": "code",
   "execution_count": 6,
   "metadata": {},
   "outputs": [],
   "source": [
    "def plot_predictions(model, X_test, y_test):\n",
    "    predictions = model.predict(X_test)\n",
    "    plt.figure(figsize=(10, 6))\n",
    "    plt.scatter(y_test, predictions)\n",
    "    plt.plot([y_test.min(), y_test.max()], [y_test.min(), y_test.max()], 'r--', lw=2)\n",
    "    plt.xlabel('Actual Economic Impact')\n",
    "    plt.ylabel('Predicted Economic Impact')\n",
    "    plt.title('Economic Impact: Actual vs Predicted')\n",
    "    plt.show()"
   ]
  },
  {
   "cell_type": "markdown",
   "metadata": {},
   "source": [
    "## 6. Question Generation\n"
   ]
  },
  {
   "cell_type": "code",
   "execution_count": 7,
   "metadata": {},
   "outputs": [],
   "source": [
    "def generate_question(model, scaler, question_type='multiple_choice'):\n",
    "    # Generate random input\n",
    "    input_data = np.random.rand(1, scaler.n_features_in_)\n",
    "    scaled_input = scaler.transform(input_data)\n",
    "    \n",
    "    # Predict economic impact\n",
    "    predicted_impact = model.predict(scaled_input)[0][0]\n",
    "    \n",
    "    if question_type == 'multiple_choice':\n",
    "        question = \"Based on the following environmental conditions:\\n\"\n",
    "        question += f\"Wildfire Intensity: {input_data[0][0]:.2f}\\n\"\n",
    "        question += f\"Air Quality Index: {input_data[0][1]:.2f}\\n\"\n",
    "        question += f\"Water Resource Level: {input_data[0][2]:.2f}\\n\\n\"\n",
    "        question += \"What is the most likely economic impact?\\n\"\n",
    "        \n",
    "        options = [\n",
    "            f\"A) Severe economic downturn (>${predicted_impact*1.2:.2f} billion)\",\n",
    "            f\"B) Moderate economic impact (${predicted_impact*0.8:.2f} - ${predicted_impact*1.2:.2f} billion)\",\n",
    "            f\"C) Minor economic effect (${predicted_impact*0.5:.2f} - ${predicted_impact*0.8:.2f} billion)\",\n",
    "            f\"D) Negligible economic impact (<${predicted_impact*0.5:.2f} billion)\"\n",
    "        ]\n",
    "        \n",
    "        correct_answer = 'B'\n",
    "        \n",
    "        return question, options, correct_answer\n",
    "    \n",
    "    elif question_type == 'true_false':\n",
    "        statement = \"Given the current environmental conditions, \"\n",
    "        if predicted_impact > 5:\n",
    "            statement += \"the economic impact is likely to be severe, exceeding $5 billion.\"\n",
    "            correct_answer = True\n",
    "        else:\n",
    "            statement += \"the economic impact is likely to be moderate, less than $5 billion.\"\n",
    "            correct_answer = False\n",
    "        \n",
    "        return statement, correct_answer"
   ]
  },
  {
   "cell_type": "markdown",
   "metadata": {},
   "source": [
    "## 7. Interactive Quiz Function\n"
   ]
  },
  {
   "cell_type": "code",
   "execution_count": 8,
   "metadata": {},
   "outputs": [],
   "source": [
    "def take_quiz(model, scaler, num_questions=5):\n",
    "    score = 0\n",
    "    for i in range(num_questions):\n",
    "        print(f\"\\nQuestion {i+1}:\")\n",
    "        if np.random.rand() > 0.5:\n",
    "            question, options, correct_answer = generate_question(model, scaler, 'multiple_choice')\n",
    "            print(question)\n",
    "            for option in options:\n",
    "                print(option)\n",
    "            user_answer = input(\"Your answer (A/B/C/D): \").upper()\n",
    "            if user_answer == correct_answer:\n",
    "                print(\"Correct!\")\n",
    "                score += 1\n",
    "            else:\n",
    "                print(f\"Incorrect. The correct answer is {correct_answer}.\")\n",
    "        else:\n",
    "            statement, correct_answer = generate_question(model, scaler, 'true_false')\n",
    "            print(statement)\n",
    "            user_answer = input(\"True or False? (T/F): \").upper() == 'T'\n",
    "            if user_answer == correct_answer:\n",
    "                print(\"Correct!\")\n",
    "                score += 1\n",
    "            else:\n",
    "                print(f\"Incorrect. The correct answer is {correct_answer}.\")\n",
    "    \n",
    "    print(f\"\\nQuiz completed! Your score: {score}/{num_questions}\")"
   ]
  },
  {
   "cell_type": "markdown",
   "metadata": {},
   "source": [
    "## 8. Main Execution\n"
   ]
  },
  {
   "cell_type": "code",
   "execution_count": 9,
   "metadata": {},
   "outputs": [
    {
     "name": "stderr",
     "output_type": "stream",
     "text": [
      "/Users/rajesh/Desktop/Code/NASA/7-SD/.venv/lib/python3.11/site-packages/keras/src/layers/rnn/rnn.py:204: UserWarning: Do not pass an `input_shape`/`input_dim` argument to a layer. When using Sequential models, prefer using an `Input(shape)` object as the first layer in the model instead.\n",
      "  super().__init__(**kwargs)\n"
     ]
    },
    {
     "name": "stdout",
     "output_type": "stream",
     "text": [
      "Test MAE: $0.26 billion\n",
      "\u001B[1m7/7\u001B[0m \u001B[32m━━━━━━━━━━━━━━━━━━━━\u001B[0m\u001B[37m\u001B[0m \u001B[1m0s\u001B[0m 20ms/step\n"
     ]
    },
    {
     "data": {
      "image/png": "[encoded data removed]",
      "text/plain": [
       "<Figure size 1000x600 with 1 Axes>"
      ]
     },
     "metadata": {},
     "output_type": "display_data"
    },
    {
     "name": "stdout",
     "output_type": "stream",
     "text": [
      "\n",
      "Welcome to the Economic Impact Quiz!\n",
      "\n",
      "Question 1:\n",
      "\u001B[1m1/1\u001B[0m \u001B[32m━━━━━━━━━━━━━━━━━━━━\u001B[0m\u001B[37m\u001B[0m \u001B[1m0s\u001B[0m 13ms/step\n"
     ]
    },
    {
     "name": "stderr",
     "output_type": "stream",
     "text": [
      "/Users/rajesh/Desktop/Code/NASA/7-SD/.venv/lib/python3.11/site-packages/sklearn/base.py:493: UserWarning: X does not have valid feature names, but StandardScaler was fitted with feature names\n",
      "  warnings.warn(\n"
     ]
    },
    {
     "name": "stdout",
     "output_type": "stream",
     "text": [
      "Based on the following environmental conditions:\n",
      "Wildfire Intensity: 0.49\n",
      "Air Quality Index: 0.22\n",
      "Water Resource Level: 0.76\n",
      "\n",
      "What is the most likely economic impact?\n",
      "\n",
      "A) Severe economic downturn (>$0.62 billion)\n",
      "B) Moderate economic impact ($0.41 - $0.62 billion)\n",
      "C) Minor economic effect ($0.26 - $0.41 billion)\n",
      "D) Negligible economic impact (<$0.26 billion)\n",
      "Incorrect. The correct answer is B.\n",
      "\n",
      "Question 2:\n",
      "\u001B[1m1/1\u001B[0m \u001B[32m━━━━━━━━━━━━━━━━━━━━\u001B[0m\u001B[37m\u001B[0m \u001B[1m0s\u001B[0m 15ms/step\n"
     ]
    },
    {
     "name": "stderr",
     "output_type": "stream",
     "text": [
      "/Users/rajesh/Desktop/Code/NASA/7-SD/.venv/lib/python3.11/site-packages/sklearn/base.py:493: UserWarning: X does not have valid feature names, but StandardScaler was fitted with feature names\n",
      "  warnings.warn(\n"
     ]
    },
    {
     "name": "stdout",
     "output_type": "stream",
     "text": [
      "Based on the following environmental conditions:\n",
      "Wildfire Intensity: 0.40\n",
      "Air Quality Index: 0.96\n",
      "Water Resource Level: 0.94\n",
      "\n",
      "What is the most likely economic impact?\n",
      "\n",
      "A) Severe economic downturn (>$0.62 billion)\n",
      "B) Moderate economic impact ($0.41 - $0.62 billion)\n",
      "C) Minor economic effect ($0.26 - $0.41 billion)\n",
      "D) Negligible economic impact (<$0.26 billion)\n",
      "Incorrect. The correct answer is B.\n",
      "\n",
      "Question 3:\n",
      "\u001B[1m1/1\u001B[0m \u001B[32m━━━━━━━━━━━━━━━━━━━━\u001B[0m\u001B[37m\u001B[0m \u001B[1m0s\u001B[0m 16ms/step\n"
     ]
    },
    {
     "name": "stderr",
     "output_type": "stream",
     "text": [
      "/Users/rajesh/Desktop/Code/NASA/7-SD/.venv/lib/python3.11/site-packages/sklearn/base.py:493: UserWarning: X does not have valid feature names, but StandardScaler was fitted with feature names\n",
      "  warnings.warn(\n"
     ]
    },
    {
     "name": "stdout",
     "output_type": "stream",
     "text": [
      "Based on the following environmental conditions:\n",
      "Wildfire Intensity: 0.20\n",
      "Air Quality Index: 0.01\n",
      "Water Resource Level: 0.37\n",
      "\n",
      "What is the most likely economic impact?\n",
      "\n",
      "A) Severe economic downturn (>$0.68 billion)\n",
      "B) Moderate economic impact ($0.45 - $0.68 billion)\n",
      "C) Minor economic effect ($0.28 - $0.45 billion)\n",
      "D) Negligible economic impact (<$0.28 billion)\n",
      "Incorrect. The correct answer is B.\n",
      "\n",
      "Question 4:\n",
      "\u001B[1m1/1\u001B[0m \u001B[32m━━━━━━━━━━━━━━━━━━━━\u001B[0m\u001B[37m\u001B[0m \u001B[1m0s\u001B[0m 15ms/step\n"
     ]
    },
    {
     "name": "stderr",
     "output_type": "stream",
     "text": [
      "/Users/rajesh/Desktop/Code/NASA/7-SD/.venv/lib/python3.11/site-packages/sklearn/base.py:493: UserWarning: X does not have valid feature names, but StandardScaler was fitted with feature names\n",
      "  warnings.warn(\n"
     ]
    },
    {
     "name": "stdout",
     "output_type": "stream",
     "text": [
      "Given the current environmental conditions, the economic impact is likely to be moderate, less than $5 billion.\n",
      "Incorrect. The correct answer is False.\n",
      "\n",
      "Question 5:\n",
      "\u001B[1m1/1\u001B[0m \u001B[32m━━━━━━━━━━━━━━━━━━━━\u001B[0m\u001B[37m\u001B[0m \u001B[1m0s\u001B[0m 16ms/step\n"
     ]
    },
    {
     "name": "stderr",
     "output_type": "stream",
     "text": [
      "/Users/rajesh/Desktop/Code/NASA/7-SD/.venv/lib/python3.11/site-packages/sklearn/base.py:493: UserWarning: X does not have valid feature names, but StandardScaler was fitted with feature names\n",
      "  warnings.warn(\n"
     ]
    },
    {
     "name": "stdout",
     "output_type": "stream",
     "text": [
      "Given the current environmental conditions, the economic impact is likely to be moderate, less than $5 billion.\n",
      "Correct!\n",
      "\n",
      "Quiz completed! Your score: 1/5\n"
     ]
    }
   ],
   "source": [
    "if __name__ == \"__main__\":\n",
    "    # Fetch data (simulated for this example)\n",
    "    data_dict = {key: pd.DataFrame(np.random.rand(1000, 3), columns=['feature1', 'feature2', 'feature3']) for key in nasa_urls}\n",
    "    data_dict['economic_indicators'] = pd.DataFrame(np.random.rand(1000, 1), columns=['economic_impact'])\n",
    "    \n",
    "    # Preprocess data\n",
    "    X_train, X_test, y_train, y_test, scaler = preprocess_data(data_dict)\n",
    "    \n",
    "    # Create and train model\n",
    "    model = create_model((X_train.shape[1], 1))\n",
    "    history = train_model(model, X_train, y_train)\n",
    "    \n",
    "    # Evaluate model\n",
    "    test_loss, test_mae = model.evaluate(X_test, y_test, verbose=0)\n",
    "    print(f\"Test MAE: ${test_mae:.2f} billion\")\n",
    "    \n",
    "    # Visualize predictions\n",
    "    plot_predictions(model, X_test, y_test)\n",
    "    \n",
    "    # Take the quiz\n",
    "    print(\"\\nWelcome to the Economic Impact Quiz!\")\n",
    "    take_quiz(model, scaler)"
   ]
  },
  {
   "cell_type": "markdown",
   "metadata": {},
   "source": [
    "## 9. Additional Information\n"
   ]
  },
  {
   "cell_type": "code",
   "execution_count": 10,
   "metadata": {},
   "outputs": [
    {
     "name": "stdout",
     "output_type": "stream",
     "text": [
      "\n",
      "NASA Resources for Further Learning:\n",
      "1. EIC Gallery: Interactive visualizations of climate indicators\n",
      "2. Data Pathfinders: Guide to NASA Earth science datasets\n",
      "3. Images of Change: Visual documentation of Earth's changing state\n",
      "4. NASA Earth System Interconnections Video\n",
      "5. Earth Information Center (EIC)\n",
      "\n",
      "Partner Resources:\n",
      "6. ESA Sentinel-3 World Fire Atlas\n",
      "7. EO Dashboard Story on Australian Wildfires\n",
      "8. FireSmoke Canada Portal\n",
      "9. MOPITT: Measurements of Pollution in the Troposphere\n",
      "10. Surface Water and Ocean Topography (SWOT) mission information\n",
      "\n",
      "For more detailed information, visit NASA's Earth Science Division website.\n"
     ]
    }
   ],
   "source": [
    "def display_nasa_resources():\n",
    "    print(\"\\nNASA Resources for Further Learning:\")\n",
    "    print(\"1. EIC Gallery: Interactive visualizations of climate indicators\")\n",
    "    print(\"2. Data Pathfinders: Guide to NASA Earth science datasets\")\n",
    "    print(\"3. Images of Change: Visual documentation of Earth's changing state\")\n",
    "    print(\"4. NASA Earth System Interconnections Video\")\n",
    "    print(\"5. Earth Information Center (EIC)\")\n",
    "    print(\"\\nPartner Resources:\")\n",
    "    print(\"6. ESA Sentinel-3 World Fire Atlas\")\n",
    "    print(\"7. EO Dashboard Story on Australian Wildfires\")\n",
    "    print(\"8. FireSmoke Canada Portal\")\n",
    "    print(\"9. MOPITT: Measurements of Pollution in the Troposphere\")\n",
    "    print(\"10. Surface Water and Ocean Topography (SWOT) mission information\")\n",
    "\n",
    "if __name__ == \"__main__\":\n",
    "    display_nasa_resources()\n",
    "    print(\"\\nFor more detailed information, visit NASA's Earth Science Division website.\")"
   ]
  },
  {
   "cell_type": "code",
   "execution_count": null,
   "metadata": {},
   "outputs": [],
   "source": []
  }
 ],
 "metadata": {
  "kernelspec": {
   "display_name": ".venv",
   "language": "python",
   "name": "python3"
  },
  "language_info": {
   "codemirror_mode": {
    "name": "ipython",
    "version": 3
   },
   "file_extension": ".py",
   "mimetype": "text/x-python",
   "name": "python",
   "nbconvert_exporter": "python",
   "pygments_lexer": "ipython3",
   "version": "3.11.4"
  }
 },
 "nbformat": 4,
 "nbformat_minor": 2
}
