{
 "cells": [
  {
   "cell_type": "code",
   "execution_count": 2,
   "metadata": {},
   "outputs": [],
   "source": [
    "import numpy as np\n",
    "import pandas as pd\n",
    "import tensorflow as tf\n",
    "from sklearn.model_selection import train_test_split\n",
    "from sklearn.preprocessing import StandardScaler\n",
    "from tensorflow.keras.models import Sequential\n",
    "from tensorflow.keras.layers import Dense, Dropout\n",
    "from tensorflow.keras.optimizers import Adam\n"
   ]
  },
  {
   "cell_type": "markdown",
   "metadata": {},
   "source": [
    "## 1. Data Generation (simulating air pollution data)\n"
   ]
  },
  {
   "cell_type": "code",
   "execution_count": 3,
   "metadata": {},
   "outputs": [],
   "source": [
    "def generate_air_pollution_data(n_samples=1000):\n",
    "    np.random.seed(42)\n",
    "    \n",
    "    # Features: industrial_emissions, vehicle_traffic, temperature, wind_speed, precipitation\n",
    "    industrial_emissions = np.random.normal(50, 20, n_samples)\n",
    "    vehicle_traffic = np.random.normal(1000, 300, n_samples)\n",
    "    temperature = np.random.normal(20, 5, n_samples)\n",
    "    wind_speed = np.random.normal(10, 3, n_samples)\n",
    "    precipitation = np.random.normal(50, 20, n_samples)\n",
    "    \n",
    "    # Target: air_quality_index (AQI) (simplified model)\n",
    "    aqi = (\n",
    "        0.3 * industrial_emissions +\n",
    "        0.3 * vehicle_traffic +\n",
    "        0.1 * temperature +\n",
    "        -0.2 * wind_speed +\n",
    "        -0.1 * precipitation +\n",
    "        np.random.normal(0, 10, n_samples)\n",
    "    )\n",
    "    aqi = np.clip(aqi, 0, 500)  # AQI typically ranges from 0 to 500\n",
    "    \n",
    "    data = pd.DataFrame({\n",
    "        'industrial_emissions': industrial_emissions,\n",
    "        'vehicle_traffic': vehicle_traffic,\n",
    "        'temperature': temperature,\n",
    "        'wind_speed': wind_speed,\n",
    "        'precipitation': precipitation,\n",
    "        'aqi': aqi\n",
    "    })\n",
    "    \n",
    "    return data"
   ]
  },
  {
   "cell_type": "markdown",
   "metadata": {},
   "source": [
    "## 2. Data Preprocessing\n"
   ]
  },
  {
   "cell_type": "code",
   "execution_count": 4,
   "metadata": {},
   "outputs": [],
   "source": [
    "def preprocess_data(data):\n",
    "    X = data[['industrial_emissions', 'vehicle_traffic', 'temperature', 'wind_speed', 'precipitation']]\n",
    "    y = data['aqi']\n",
    "    \n",
    "    scaler = StandardScaler()\n",
    "    X_scaled = scaler.fit_transform(X)\n",
    "    \n",
    "    X_train, X_test, y_train, y_test = train_test_split(X_scaled, y, test_size=0.2, random_state=42)\n",
    "    \n",
    "    return X_train, X_test, y_train, y_test, scaler"
   ]
  },
  {
   "cell_type": "markdown",
   "metadata": {},
   "source": [
    "## 3. Model Creation\n"
   ]
  },
  {
   "cell_type": "code",
   "execution_count": 5,
   "metadata": {},
   "outputs": [],
   "source": [
    "def create_model(input_shape):\n",
    "    model = Sequential([\n",
    "        Dense(64, activation='relu', input_shape=input_shape),\n",
    "        Dropout(0.2),\n",
    "        Dense(32, activation='relu'),\n",
    "        Dropout(0.2),\n",
    "        Dense(1)\n",
    "    ])\n",
    "    model.compile(optimizer=Adam(learning_rate=0.001), loss='mse', metrics=['mae'])\n",
    "    return model"
   ]
  },
  {
   "cell_type": "markdown",
   "metadata": {},
   "source": [
    "## 4. Model Training\n"
   ]
  },
  {
   "cell_type": "code",
   "execution_count": 6,
   "metadata": {},
   "outputs": [],
   "source": [
    "def train_model(model, X_train, y_train):\n",
    "    history = model.fit(X_train, y_train, epochs=100, batch_size=32, validation_split=0.2, verbose=0)\n",
    "    return history"
   ]
  },
  {
   "cell_type": "markdown",
   "metadata": {},
   "source": [
    "## 5. AQI Category Function\n"
   ]
  },
  {
   "cell_type": "code",
   "execution_count": 7,
   "metadata": {},
   "outputs": [],
   "source": [
    "def get_aqi_category(aqi):\n",
    "    if aqi <= 50:\n",
    "        return \"Good\"\n",
    "    elif aqi <= 100:\n",
    "        return \"Moderate\"\n",
    "    elif aqi <= 150:\n",
    "        return \"Unhealthy for Sensitive Groups\"\n",
    "    elif aqi <= 200:\n",
    "        return \"Unhealthy\"\n",
    "    elif aqi <= 300:\n",
    "        return \"Very Unhealthy\"\n",
    "    else:\n",
    "        return \"Hazardous\""
   ]
  },
  {
   "cell_type": "markdown",
   "metadata": {},
   "source": [
    "## 6. Question Generation\n"
   ]
  },
  {
   "cell_type": "code",
   "execution_count": 8,
   "metadata": {},
   "outputs": [],
   "source": [
    "def generate_question(model, scaler, question_type='multiple_choice'):\n",
    "    # Generate random input\n",
    "    input_data = np.random.rand(1, 5)\n",
    "    scaled_input = scaler.transform(input_data)\n",
    "    \n",
    "    # Predict AQI\n",
    "    predicted_aqi = model.predict(scaled_input)[0][0]\n",
    "    aqi_category = get_aqi_category(predicted_aqi)\n",
    "    \n",
    "    # Create question based on the prediction\n",
    "    if question_type == 'multiple_choice':\n",
    "        question = \"Given the following conditions:\\n\"\n",
    "        question += f\"Industrial Emissions: {input_data[0][0]*100:.2f} µg/m³\\n\"\n",
    "        question += f\"Vehicle Traffic: {input_data[0][1]*2000:.0f} vehicles/hour\\n\"\n",
    "        question += f\"Temperature: {input_data[0][2]*40:.2f}°C\\n\"\n",
    "        question += f\"Wind Speed: {input_data[0][3]*20:.2f} km/h\\n\"\n",
    "        question += f\"Precipitation: {input_data[0][4]*100:.2f} mm\\n\\n\"\n",
    "        question += \"What is the most likely Air Quality Index (AQI) category?\\n\"\n",
    "        \n",
    "        options = [\n",
    "            \"A) Good\",\n",
    "            \"B) Moderate\",\n",
    "            \"C) Unhealthy for Sensitive Groups\",\n",
    "            \"D) Unhealthy\",\n",
    "            \"E) Very Unhealthy\",\n",
    "            \"F) Hazardous\"\n",
    "        ]\n",
    "        \n",
    "        correct_answer = options[[opt.split(') ')[1] for opt in options].index(aqi_category)].split(') ')[0]\n",
    "        \n",
    "        return question, options, correct_answer\n",
    "    \n",
    "    elif question_type == 'true_false':\n",
    "        statement = \"Given the environmental conditions, \"\n",
    "        if predicted_aqi > 150:\n",
    "            statement += \"the air quality is likely to be unhealthy or worse.\"\n",
    "            correct_answer = True\n",
    "        else:\n",
    "            statement += \"the air quality is likely to be moderate or good.\"\n",
    "            correct_answer = False\n",
    "        \n",
    "        return statement, correct_answer"
   ]
  },
  {
   "cell_type": "markdown",
   "metadata": {},
   "source": [
    "## 7. Main Execution\n"
   ]
  },
  {
   "cell_type": "code",
   "execution_count": 9,
   "metadata": {},
   "outputs": [
    {
     "name": "stderr",
     "output_type": "stream",
     "text": [
      "/Users/rajesh/Desktop/Code/NASA/5-AP/.venv/lib/python3.11/site-packages/keras/src/layers/core/dense.py:87: UserWarning: Do not pass an `input_shape`/`input_dim` argument to a layer. When using Sequential models, prefer using an `Input(shape)` object as the first layer in the model instead.\n",
      "  super().__init__(activity_regularizer=activity_regularizer, **kwargs)\n"
     ]
    },
    {
     "name": "stdout",
     "output_type": "stream",
     "text": [
      "Test MAE: 17.5767\n",
      "\n",
      "Multiple Choice Question:\n",
      "\u001B[1m1/1\u001B[0m \u001B[32m━━━━━━━━━━━━━━━━━━━━\u001B[0m\u001B[37m\u001B[0m \u001B[1m0s\u001B[0m 23ms/step\n",
      "Given the following conditions:\n",
      "Industrial Emissions: 33.65 µg/m³\n",
      "Vehicle Traffic: 422 vehicles/hour\n",
      "Temperature: 12.53°C\n",
      "Wind Speed: 3.58 km/h\n",
      "Precipitation: 90.19 mm\n",
      "\n",
      "What is the most likely Air Quality Index (AQI) category?\n",
      "\n",
      "A) Good\n",
      "B) Moderate\n",
      "C) Unhealthy for Sensitive Groups\n",
      "D) Unhealthy\n",
      "E) Very Unhealthy\n",
      "F) Hazardous\n",
      "Correct Answer: E\n",
      "\n",
      "True/False Question:\n",
      "\u001B[1m1/1\u001B[0m \u001B[32m━━━━━━━━━━━━━━━━━━━━\u001B[0m\u001B[37m\u001B[0m \u001B[1m0s\u001B[0m 10ms/step\n",
      "Given the environmental conditions, the air quality is likely to be unhealthy or worse.\n",
      "Correct Answer: True\n"
     ]
    },
    {
     "name": "stderr",
     "output_type": "stream",
     "text": [
      "/Users/rajesh/Desktop/Code/NASA/5-AP/.venv/lib/python3.11/site-packages/sklearn/base.py:493: UserWarning: X does not have valid feature names, but StandardScaler was fitted with feature names\n",
      "  warnings.warn(\n",
      "/Users/rajesh/Desktop/Code/NASA/5-AP/.venv/lib/python3.11/site-packages/sklearn/base.py:493: UserWarning: X does not have valid feature names, but StandardScaler was fitted with feature names\n",
      "  warnings.warn(\n"
     ]
    }
   ],
   "source": [
    "if __name__ == \"__main__\":\n",
    "    # Generate and preprocess data\n",
    "    data = generate_air_pollution_data()\n",
    "    X_train, X_test, y_train, y_test, scaler = preprocess_data(data)\n",
    "    \n",
    "    # Create and train model\n",
    "    model = create_model((X_train.shape[1],))\n",
    "    history = train_model(model, X_train, y_train)\n",
    "    \n",
    "    # Evaluate model\n",
    "    test_loss, test_mae = model.evaluate(X_test, y_test, verbose=0)\n",
    "    print(f\"Test MAE: {test_mae:.4f}\")\n",
    "    \n",
    "    # Generate questions\n",
    "    print(\"\\nMultiple Choice Question:\")\n",
    "    mc_question, mc_options, mc_answer = generate_question(model, scaler, 'multiple_choice')\n",
    "    print(mc_question)\n",
    "    for option in mc_options:\n",
    "        print(option)\n",
    "    print(f\"Correct Answer: {mc_answer}\")\n",
    "    \n",
    "    print(\"\\nTrue/False Question:\")\n",
    "    tf_statement, tf_answer = generate_question(model, scaler, 'true_false')\n",
    "    print(tf_statement)\n",
    "    print(f\"Correct Answer: {tf_answer}\")"
   ]
  },
  {
   "cell_type": "markdown",
   "metadata": {},
   "source": [
    "## 8. Interactive Quiz Function\n"
   ]
  },
  {
   "cell_type": "code",
   "execution_count": 10,
   "metadata": {},
   "outputs": [],
   "source": [
    "def take_quiz(model, scaler, num_questions=5):\n",
    "    score = 0\n",
    "    for i in range(num_questions):\n",
    "        print(f\"\\nQuestion {i+1}:\")\n",
    "        if np.random.rand() > 0.5:\n",
    "            # Multiple Choice Question\n",
    "            question, options, correct_answer = generate_question(model, scaler, 'multiple_choice')\n",
    "            print(question)\n",
    "            for option in options:\n",
    "                print(option)\n",
    "            user_answer = input(\"Your answer (A/B/C/D/E/F): \").upper()\n",
    "            if user_answer == correct_answer:\n",
    "                print(\"Correct!\")\n",
    "                score += 1\n",
    "            else:\n",
    "                print(f\"Incorrect. The correct answer is {correct_answer}.\")\n",
    "        else:\n",
    "            # True/False Question\n",
    "            statement, correct_answer = generate_question(model, scaler, 'true_false')\n",
    "            print(statement)\n",
    "            user_answer = input(\"True or False? (T/F): \").upper() == 'T'\n",
    "            if user_answer == correct_answer:\n",
    "                print(\"Correct!\")\n",
    "                score += 1\n",
    "            else:\n",
    "                print(f\"Incorrect. The correct answer is {correct_answer}.\")\n",
    "    \n",
    "    print(f\"\\nQuiz completed! Your score: {score}/{num_questions}\")"
   ]
  },
  {
   "cell_type": "markdown",
   "metadata": {},
   "source": [
    "## 9. Run the quiz\n"
   ]
  },
  {
   "cell_type": "code",
   "execution_count": null,
   "metadata": {},
   "outputs": [],
   "source": [
    "if __name__ == \"__main__\":\n",
    "    print(\"\\nWelcome to the Air Pollution Impact Quiz!\")\n",
    "    take_quiz(model, scaler)"
   ]
  },
  {
   "metadata": {
    "ExecuteTime": {
     "end_time": "2024-10-11T11:55:52.102143Z",
     "start_time": "2024-10-11T11:55:49.930453Z"
    }
   },
   "cell_type": "code",
   "source": [
    "import joblib\n",
    "from sklearn.ensemble import RandomForestClassifier\n",
    "\n",
    "# Create a scikit-learn model\n",
    "model = RandomForestClassifier()\n",
    "\n",
    "# Train the model on your data\n",
    "\n",
    "# Save the model to a file\n",
    "joblib.dump(model, 'AP.pkl')"
   ],
   "outputs": [
    {
     "data": {
      "text/plain": [
       "['AP.pkl']"
      ]
     },
     "execution_count": 1,
     "metadata": {},
     "output_type": "execute_result"
    }
   ],
   "execution_count": 1
  },
  {
   "metadata": {},
   "cell_type": "code",
   "outputs": [],
   "execution_count": null,
   "source": ""
  }
 ],
 "metadata": {
  "kernelspec": {
   "display_name": ".venv",
   "language": "python",
   "name": "python3"
  },
  "language_info": {
   "codemirror_mode": {
    "name": "ipython",
    "version": 3
   },
   "file_extension": ".py",
   "mimetype": "text/x-python",
   "name": "python",
   "nbconvert_exporter": "python",
   "pygments_lexer": "ipython3",
   "version": "3.11.4"
  }
 },
 "nbformat": 4,
 "nbformat_minor": 2
}
