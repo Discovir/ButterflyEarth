{
 "cells": [
  {
   "metadata": {
    "ExecuteTime": {
     "end_time": "2024-10-11T11:01:30.303041Z",
     "start_time": "2024-10-11T11:01:21.604408Z"
    }
   },
   "cell_type": "code",
   "source": [
    "import numpy as np\n",
    "import pandas as pd\n",
    "import tensorflow as tf\n",
    "from sklearn.model_selection import train_test_split\n",
    "from sklearn.preprocessing import StandardScaler\n",
    "from tensorflow.keras.models import Sequential\n",
    "from tensorflow.keras.layers import Dense, Dropout\n",
    "from tensorflow.keras.optimizers import Adam"
   ],
   "outputs": [],
   "execution_count": 1
  },
  {
   "metadata": {},
   "cell_type": "markdown",
   "source": "## 1. Data Generation (simulating NASA data for deforestation)\n"
  },
  {
   "metadata": {
    "ExecuteTime": {
     "end_time": "2024-10-11T11:01:30.340501Z",
     "start_time": "2024-10-11T11:01:30.329056Z"
    }
   },
   "cell_type": "code",
   "source": [
    "def generate_deforestation_data(n_samples=1000):\n",
    "    np.random.seed(42)\n",
    "    \n",
    "    # Features: temperature, rainfall, human_activity, time\n",
    "    temperature = np.random.normal(25, 5, n_samples)\n",
    "    rainfall = np.random.normal(1000, 200, n_samples)\n",
    "    human_activity = np.random.randint(0, 10, n_samples)\n",
    "    time = np.linspace(0, 10, n_samples)\n",
    "    \n",
    "    # Target: deforestation_rate (simplified model)\n",
    "    deforestation_rate = (\n",
    "        0.1 * temperature +\n",
    "        -0.05 * rainfall +\n",
    "        0.5 * human_activity +\n",
    "        0.1 * time +\n",
    "        np.random.normal(0, 0.1, n_samples)\n",
    "    )\n",
    "    deforestation_rate = (deforestation_rate - np.min(deforestation_rate)) / (np.max(deforestation_rate) - np.min(deforestation_rate))\n",
    "    \n",
    "    data = pd.DataFrame({\n",
    "        'temperature': temperature,\n",
    "        'rainfall': rainfall,\n",
    "        'human_activity': human_activity,\n",
    "        'time': time,\n",
    "        'deforestation_rate': deforestation_rate\n",
    "    })\n",
    "    \n",
    "    return data"
   ],
   "outputs": [],
   "execution_count": 2
  },
  {
   "metadata": {},
   "cell_type": "markdown",
   "source": "## 2. Data Preprocessing\n"
  },
  {
   "metadata": {
    "ExecuteTime": {
     "end_time": "2024-10-11T11:01:30.405840Z",
     "start_time": "2024-10-11T11:01:30.397516Z"
    }
   },
   "cell_type": "code",
   "source": [
    "def preprocess_data(data):\n",
    "    X = data[['temperature', 'rainfall', 'human_activity', 'time']]\n",
    "    y = data['deforestation_rate']\n",
    "    \n",
    "    scaler = StandardScaler()\n",
    "    X_scaled = scaler.fit_transform(X)\n",
    "    \n",
    "    X_train, X_test, y_train, y_test = train_test_split(X_scaled, y, test_size=0.2, random_state=42)\n",
    "    \n",
    "    return X_train, X_test, y_train, y_test, scaler"
   ],
   "outputs": [],
   "execution_count": 3
  },
  {
   "metadata": {},
   "cell_type": "markdown",
   "source": "## 3. Model Creation\n"
  },
  {
   "metadata": {
    "ExecuteTime": {
     "end_time": "2024-10-11T11:01:31.144527Z",
     "start_time": "2024-10-11T11:01:31.135478Z"
    }
   },
   "cell_type": "code",
   "source": [
    "def create_model(input_shape):\n",
    "    model = Sequential([\n",
    "        Dense(64, activation='relu', input_shape=input_shape),\n",
    "        Dropout(0.2),\n",
    "        Dense(32, activation='relu'),\n",
    "        Dropout(0.2),\n",
    "        Dense(1, activation='sigmoid')\n",
    "    ])\n",
    "    model.compile(optimizer=Adam(learning_rate=0.001), loss='mse', metrics=['mae'])\n",
    "    return model"
   ],
   "outputs": [],
   "execution_count": 4
  },
  {
   "metadata": {},
   "cell_type": "markdown",
   "source": "## 4. Model Training\n"
  },
  {
   "metadata": {
    "ExecuteTime": {
     "end_time": "2024-10-11T11:01:31.207704Z",
     "start_time": "2024-10-11T11:01:31.200955Z"
    }
   },
   "cell_type": "code",
   "source": [
    "def train_model(model, X_train, y_train):\n",
    "    history = model.fit(X_train, y_train, epochs=100, batch_size=32, validation_split=0.2, verbose=0)\n",
    "    return history"
   ],
   "outputs": [],
   "execution_count": 5
  },
  {
   "metadata": {},
   "cell_type": "markdown",
   "source": "## 5. Quiz Generation\n"
  },
  {
   "metadata": {
    "ExecuteTime": {
     "end_time": "2024-10-11T11:01:31.423723Z",
     "start_time": "2024-10-11T11:01:31.411702Z"
    }
   },
   "cell_type": "code",
   "source": [
    "def generate_question(model, scaler, question_type='multiple_choice'):\n",
    "    # Generate random input\n",
    "    input_data = np.random.rand(1, 4)\n",
    "    scaled_input = scaler.transform(input_data)\n",
    "    \n",
    "    # Predict deforestation rate\n",
    "    predicted_rate = model.predict(scaled_input)[0][0]\n",
    "    \n",
    "    # Create question based on the prediction\n",
    "    if question_type == 'multiple_choice':\n",
    "        question = \"Given the following conditions:\\n\"\n",
    "        question += f\"Temperature: {input_data[0][0]:.2f}°C\\n\"\n",
    "        question += f\"Rainfall: {input_data[0][1]:.2f} mm\\n\"\n",
    "        question += f\"Human Activity Level: {input_data[0][2]:.2f}\\n\"\n",
    "        question += f\"Time Period: {input_data[0][3]:.2f} years\\n\\n\"\n",
    "        question += \"What is the most likely impact on deforestation?\\n\"\n",
    "        \n",
    "        options = [\n",
    "            f\"A) High deforestation rate (>{predicted_rate+0.2:.2f})\",\n",
    "            f\"B) Moderate deforestation rate ({predicted_rate-0.1:.2f} - {predicted_rate+0.1:.2f})\",\n",
    "            f\"C) Low deforestation rate (<{predicted_rate-0.2:.2f})\",\n",
    "            \"D) No significant impact on deforestation\"\n",
    "        ]\n",
    "        \n",
    "        correct_answer = 'B'\n",
    "        \n",
    "        return question, options, correct_answer\n",
    "    \n",
    "    elif question_type == 'true_false':\n",
    "        statement = \"Given the environmental conditions, \"\n",
    "        if predicted_rate > 0.5:\n",
    "            statement += \"the deforestation rate is likely to be high.\"\n",
    "            correct_answer = True\n",
    "        else:\n",
    "            statement += \"the deforestation rate is likely to be low.\"\n",
    "            correct_answer = False\n",
    "        \n",
    "        return statement, correct_answer"
   ],
   "outputs": [],
   "execution_count": 6
  },
  {
   "metadata": {},
   "cell_type": "markdown",
   "source": "## 6. Main Execution\n"
  },
  {
   "metadata": {
    "ExecuteTime": {
     "end_time": "2024-10-11T11:01:48.388920Z",
     "start_time": "2024-10-11T11:01:31.485415Z"
    }
   },
   "cell_type": "code",
   "source": [
    "if __name__ == \"__main__\":\n",
    "    # Generate and preprocess data\n",
    "    data = generate_deforestation_data()\n",
    "    X_train, X_test, y_train, y_test, scaler = preprocess_data(data)\n",
    "    \n",
    "    # Create and train model\n",
    "    model = create_model((X_train.shape[1],))\n",
    "    history = train_model(model, X_train, y_train)\n",
    "    \n",
    "    # Evaluate model\n",
    "    test_loss, test_mae = model.evaluate(X_test, y_test, verbose=0)\n",
    "    print(f\"Test MAE: {test_mae:.4f}\")\n",
    "    \n",
    "    # Generate questions\n",
    "    print(\"\\nMultiple Choice Question:\")\n",
    "    mc_question, mc_options, mc_answer = generate_question(model, scaler, 'multiple_choice')\n",
    "    print(mc_question)\n",
    "    for option in mc_options:\n",
    "        print(option)\n",
    "    print(f\"Correct Answer: {mc_answer}\")\n",
    "    \n",
    "    print(\"\\nTrue/False Question:\")\n",
    "    tf_statement, tf_answer = generate_question(model, scaler, 'true_false')\n",
    "    print(tf_statement)\n",
    "    print(f\"Correct Answer: {tf_answer}\")\n"
   ],
   "outputs": [
    {
     "name": "stderr",
     "output_type": "stream",
     "text": [
      "D:\\NASA\\ButterflyEarth\\venv\\Lib\\site-packages\\keras\\src\\layers\\core\\dense.py:87: UserWarning: Do not pass an `input_shape`/`input_dim` argument to a layer. When using Sequential models, prefer using an `Input(shape)` object as the first layer in the model instead.\n",
      "  super().__init__(activity_regularizer=activity_regularizer, **kwargs)\n"
     ]
    },
    {
     "name": "stdout",
     "output_type": "stream",
     "text": [
      "Test MAE: 0.0058\n",
      "\n",
      "Multiple Choice Question:\n",
      "\u001B[1m1/1\u001B[0m \u001B[32m━━━━━━━━━━━━━━━━━━━━\u001B[0m\u001B[37m\u001B[0m \u001B[1m0s\u001B[0m 103ms/step\n",
      "Given the following conditions:\n",
      "Temperature: 0.85°C\n",
      "Rainfall: 0.18 mm\n",
      "Human Activity Level: 0.96\n",
      "Time Period: 0.38 years\n",
      "\n",
      "What is the most likely impact on deforestation?\n",
      "\n",
      "A) High deforestation rate (>1.17)\n",
      "B) Moderate deforestation rate (0.87 - 1.07)\n",
      "C) Low deforestation rate (<0.77)\n",
      "D) No significant impact on deforestation\n",
      "Correct Answer: B\n",
      "\n",
      "True/False Question:\n"
     ]
    },
    {
     "name": "stderr",
     "output_type": "stream",
     "text": [
      "D:\\NASA\\ButterflyEarth\\venv\\Lib\\site-packages\\sklearn\\base.py:493: UserWarning: X does not have valid feature names, but StandardScaler was fitted with feature names\n",
      "  warnings.warn(\n",
      "D:\\NASA\\ButterflyEarth\\venv\\Lib\\site-packages\\sklearn\\base.py:493: UserWarning: X does not have valid feature names, but StandardScaler was fitted with feature names\n",
      "  warnings.warn(\n"
     ]
    },
    {
     "name": "stdout",
     "output_type": "stream",
     "text": [
      "\u001B[1m1/1\u001B[0m \u001B[32m━━━━━━━━━━━━━━━━━━━━\u001B[0m\u001B[37m\u001B[0m \u001B[1m0s\u001B[0m 75ms/step\n",
      "Given the environmental conditions, the deforestation rate is likely to be high.\n",
      "Correct Answer: True\n"
     ]
    }
   ],
   "execution_count": 7
  },
  {
   "metadata": {},
   "cell_type": "markdown",
   "source": "## 7. Interactive Quiz Function\n"
  },
  {
   "metadata": {
    "ExecuteTime": {
     "end_time": "2024-10-11T11:01:48.664921Z",
     "start_time": "2024-10-11T11:01:48.651553Z"
    }
   },
   "cell_type": "code",
   "source": [
    "def take_quiz(model, scaler, num_questions=5):\n",
    "    score = 0\n",
    "    for i in range(num_questions):\n",
    "        print(f\"\\nQuestion {i+1}:\")\n",
    "        if np.random.rand() > 0.5:\n",
    "            # Multiple Choice Question\n",
    "            question, options, correct_answer = generate_question(model, scaler, 'multiple_choice')\n",
    "            print(question)\n",
    "            for option in options:\n",
    "                print(option)\n",
    "            user_answer = input(\"Your answer (A/B/C/D): \").upper()\n",
    "            if user_answer == correct_answer:\n",
    "                print(\"Correct!\")\n",
    "                score += 1\n",
    "            else:\n",
    "                print(f\"Incorrect. The correct answer is {correct_answer}.\")\n",
    "        else:\n",
    "            # True/False Question\n",
    "            statement, correct_answer = generate_question(model, scaler, 'true_false')\n",
    "            print(statement)\n",
    "            user_answer = input(\"True or False? (T/F): \").upper() == 'T'\n",
    "            if user_answer == correct_answer:\n",
    "                print(\"Correct!\")\n",
    "                score += 1\n",
    "            else:\n",
    "                print(f\"Incorrect. The correct answer is {correct_answer}.\")\n",
    "    \n",
    "    print(f\"\\nQuiz completed! Your score: {score}/{num_questions}\")"
   ],
   "outputs": [],
   "execution_count": 8
  },
  {
   "metadata": {},
   "cell_type": "markdown",
   "source": "## 8. Run the quiz\n"
  },
  {
   "metadata": {
    "ExecuteTime": {
     "end_time": "2024-10-11T11:02:27.717573Z",
     "start_time": "2024-10-11T11:01:48.885407Z"
    }
   },
   "cell_type": "code",
   "source": [
    "if __name__ == \"__main__\":\n",
    "    print(\"\\nWelcome to the Deforestation Chapter!\")\n",
    "    take_quiz(model, scaler)"
   ],
   "outputs": [
    {
     "name": "stdout",
     "output_type": "stream",
     "text": [
      "\n",
      "Welcome to the Deforestation Chapter!\n",
      "\n",
      "Question 1:\n",
      "\u001B[1m1/1\u001B[0m \u001B[32m━━━━━━━━━━━━━━━━━━━━\u001B[0m\u001B[37m\u001B[0m \u001B[1m0s\u001B[0m 46ms/step\n"
     ]
    },
    {
     "name": "stderr",
     "output_type": "stream",
     "text": [
      "D:\\NASA\\ButterflyEarth\\venv\\Lib\\site-packages\\sklearn\\base.py:493: UserWarning: X does not have valid feature names, but StandardScaler was fitted with feature names\n",
      "  warnings.warn(\n"
     ]
    },
    {
     "name": "stdout",
     "output_type": "stream",
     "text": [
      "Given the environmental conditions, the deforestation rate is likely to be high.\n",
      "Correct!\n",
      "\n",
      "Question 2:\n",
      "\u001B[1m1/1\u001B[0m \u001B[32m━━━━━━━━━━━━━━━━━━━━\u001B[0m\u001B[37m\u001B[0m \u001B[1m0s\u001B[0m 59ms/step\n"
     ]
    },
    {
     "name": "stderr",
     "output_type": "stream",
     "text": [
      "D:\\NASA\\ButterflyEarth\\venv\\Lib\\site-packages\\sklearn\\base.py:493: UserWarning: X does not have valid feature names, but StandardScaler was fitted with feature names\n",
      "  warnings.warn(\n"
     ]
    },
    {
     "name": "stdout",
     "output_type": "stream",
     "text": [
      "Given the following conditions:\n",
      "Temperature: 0.86°C\n",
      "Rainfall: 0.76 mm\n",
      "Human Activity Level: 0.15\n",
      "Time Period: 0.69 years\n",
      "\n",
      "What is the most likely impact on deforestation?\n",
      "\n",
      "A) High deforestation rate (>1.17)\n",
      "B) Moderate deforestation rate (0.87 - 1.07)\n",
      "C) Low deforestation rate (<0.77)\n",
      "D) No significant impact on deforestation\n",
      "Incorrect. The correct answer is B.\n",
      "\n",
      "Question 3:\n",
      "\u001B[1m1/1\u001B[0m \u001B[32m━━━━━━━━━━━━━━━━━━━━\u001B[0m\u001B[37m\u001B[0m \u001B[1m0s\u001B[0m 83ms/step\n",
      "Given the following conditions:\n",
      "Temperature: 0.68°C\n",
      "Rainfall: 0.33 mm\n",
      "Human Activity Level: 0.50\n",
      "Time Period: 0.65 years\n",
      "\n",
      "What is the most likely impact on deforestation?\n"
     ]
    },
    {
     "name": "stderr",
     "output_type": "stream",
     "text": [
      "D:\\NASA\\ButterflyEarth\\venv\\Lib\\site-packages\\sklearn\\base.py:493: UserWarning: X does not have valid feature names, but StandardScaler was fitted with feature names\n",
      "  warnings.warn(\n"
     ]
    },
    {
     "name": "stdout",
     "output_type": "stream",
     "text": [
      "\n",
      "A) High deforestation rate (>1.17)\n",
      "B) Moderate deforestation rate (0.87 - 1.07)\n",
      "C) Low deforestation rate (<0.77)\n",
      "D) No significant impact on deforestation\n",
      "Incorrect. The correct answer is B.\n",
      "\n",
      "Question 4:\n",
      "\u001B[1m1/1\u001B[0m \u001B[32m━━━━━━━━━━━━━━━━━━━━\u001B[0m\u001B[37m\u001B[0m \u001B[1m0s\u001B[0m 87ms/step\n"
     ]
    },
    {
     "name": "stderr",
     "output_type": "stream",
     "text": [
      "D:\\NASA\\ButterflyEarth\\venv\\Lib\\site-packages\\sklearn\\base.py:493: UserWarning: X does not have valid feature names, but StandardScaler was fitted with feature names\n",
      "  warnings.warn(\n"
     ]
    },
    {
     "name": "stdout",
     "output_type": "stream",
     "text": [
      "Given the following conditions:\n",
      "Temperature: 0.12°C\n",
      "Rainfall: 0.31 mm\n",
      "Human Activity Level: 0.80\n",
      "Time Period: 0.86 years\n",
      "\n",
      "What is the most likely impact on deforestation?\n",
      "\n",
      "A) High deforestation rate (>1.17)\n",
      "B) Moderate deforestation rate (0.87 - 1.07)\n",
      "C) Low deforestation rate (<0.77)\n",
      "D) No significant impact on deforestation\n",
      "Incorrect. The correct answer is B.\n",
      "\n",
      "Question 5:\n"
     ]
    },
    {
     "name": "stderr",
     "output_type": "stream",
     "text": [
      "D:\\NASA\\ButterflyEarth\\venv\\Lib\\site-packages\\sklearn\\base.py:493: UserWarning: X does not have valid feature names, but StandardScaler was fitted with feature names\n",
      "  warnings.warn(\n"
     ]
    },
    {
     "name": "stdout",
     "output_type": "stream",
     "text": [
      "\u001B[1m1/1\u001B[0m \u001B[32m━━━━━━━━━━━━━━━━━━━━\u001B[0m\u001B[37m\u001B[0m \u001B[1m0s\u001B[0m 193ms/step\n",
      "Given the environmental conditions, the deforestation rate is likely to be high.\n",
      "Incorrect. The correct answer is True.\n",
      "\n",
      "Quiz completed! Your score: 1/5\n"
     ]
    }
   ],
   "execution_count": 9
  },
  {
   "metadata": {
    "ExecuteTime": {
     "end_time": "2024-10-11T11:54:23.066214Z",
     "start_time": "2024-10-11T11:54:22.867605Z"
    }
   },
   "cell_type": "code",
   "source": [
    "import joblib\n",
    "from sklearn.ensemble import RandomForestClassifier\n",
    "\n",
    "# Create a scikit-learn model\n",
    "model = RandomForestClassifier()\n",
    "\n",
    "# Train the model on your data\n",
    "\n",
    "# Save the model to a file\n",
    "joblib.dump(model, '1-Deforestation.pkl')"
   ],
   "outputs": [
    {
     "data": {
      "text/plain": [
       "['1-Deforestation.pkl']"
      ]
     },
     "execution_count": 12,
     "metadata": {},
     "output_type": "execute_result"
    }
   ],
   "execution_count": 12
  },
  {
   "metadata": {},
   "cell_type": "code",
   "outputs": [],
   "execution_count": null,
   "source": ""
  }
 ],
 "metadata": {
  "kernelspec": {
   "display_name": ".venv",
   "language": "python",
   "name": "python3"
  },
  "language_info": {
   "codemirror_mode": {
    "name": "ipython",
    "version": 3
   },
   "file_extension": ".py",
   "mimetype": "text/x-python",
   "name": "python",
   "nbconvert_exporter": "python",
   "pygments_lexer": "ipython3",
   "version": "3.11.4"
  }
 },
 "nbformat": 4,
 "nbformat_minor": 2
}
