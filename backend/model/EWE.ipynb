{
 "cells": [
  {
   "cell_type": "code",
   "execution_count": 1,
   "metadata": {},
   "outputs": [],
   "source": [
    "import numpy as np\n",
    "import pandas as pd\n",
    "import tensorflow as tf\n",
    "from sklearn.model_selection import train_test_split\n",
    "from sklearn.preprocessing import StandardScaler\n",
    "from tensorflow.keras.models import Sequential\n",
    "from tensorflow.keras.layers import Dense, Dropout\n",
    "from tensorflow.keras.optimizers import Adam"
   ]
  },
  {
   "metadata": {
    "ExecuteTime": {
     "end_time": "2024-10-11T11:58:18.950847Z",
     "start_time": "2024-10-11T11:58:16.986761Z"
    }
   },
   "cell_type": "code",
   "source": [
    "import joblib\n",
    "from sklearn.ensemble import RandomForestClassifier\n",
    "\n",
    "# Create a scikit-learn model\n",
    "model = RandomForestClassifier()\n",
    "\n",
    "# Train the model on your data\n",
    "\n",
    "# Save the model to a file\n",
    "joblib.dump(model, 'EWE.pkl')"
   ],
   "outputs": [
    {
     "data": {
      "text/plain": [
       "['EWE.pkl']"
      ]
     },
     "execution_count": 1,
     "metadata": {},
     "output_type": "execute_result"
    }
   ],
   "execution_count": 1
  },
  {
   "cell_type": "markdown",
   "metadata": {},
   "source": [
    "## 1. Data Generation (simulating climate data related to extreme weather events)\n"
   ]
  },
  {
   "cell_type": "code",
   "execution_count": 2,
   "metadata": {},
   "outputs": [],
   "source": [
    "def generate_extreme_weather_data(n_samples=1000):\n",
    "    np.random.seed(42)\n",
    "    \n",
    "    # Features: global_temp_anomaly, ocean_temp, co2_levels, el_nino_index\n",
    "    global_temp_anomaly = np.random.normal(1, 0.5, n_samples)\n",
    "    ocean_temp = np.random.normal(20, 3, n_samples)\n",
    "    co2_levels = np.random.normal(410, 20, n_samples)\n",
    "    el_nino_index = np.random.normal(0, 1, n_samples)\n",
    "    \n",
    "    # Target: extreme_weather_probability (simplified model)\n",
    "    extreme_weather_probability = (\n",
    "        0.3 * global_temp_anomaly +\n",
    "        0.2 * (ocean_temp - 20) / 3 +\n",
    "        0.3 * (co2_levels - 400) / 20 +\n",
    "        0.2 * el_nino_index +\n",
    "        np.random.normal(0, 0.1, n_samples)\n",
    "    )\n",
    "    extreme_weather_probability = 1 / (1 + np.exp(-extreme_weather_probability))  # Sigmoid to get probability\n",
    "    \n",
    "    data = pd.DataFrame({\n",
    "        'global_temp_anomaly': global_temp_anomaly,\n",
    "        'ocean_temp': ocean_temp,\n",
    "        'co2_levels': co2_levels,\n",
    "        'el_nino_index': el_nino_index,\n",
    "        'extreme_weather_probability': extreme_weather_probability\n",
    "    })\n",
    "    \n",
    "    return data"
   ]
  },
  {
   "cell_type": "markdown",
   "metadata": {},
   "source": [
    "## 2. Data Preprocessing\n"
   ]
  },
  {
   "cell_type": "code",
   "execution_count": 3,
   "metadata": {},
   "outputs": [],
   "source": [
    "def preprocess_data(data):\n",
    "    X = data[['global_temp_anomaly', 'ocean_temp', 'co2_levels', 'el_nino_index']]\n",
    "    y = data['extreme_weather_probability']\n",
    "    \n",
    "    scaler = StandardScaler()\n",
    "    X_scaled = scaler.fit_transform(X)\n",
    "    \n",
    "    X_train, X_test, y_train, y_test = train_test_split(X_scaled, y, test_size=0.2, random_state=42)\n",
    "    \n",
    "    return X_train, X_test, y_train, y_test, scaler"
   ]
  },
  {
   "cell_type": "markdown",
   "metadata": {},
   "source": [
    "## 3. Model Creation\n"
   ]
  },
  {
   "cell_type": "code",
   "execution_count": 4,
   "metadata": {},
   "outputs": [],
   "source": [
    "def create_model(input_shape):\n",
    "    model = Sequential([\n",
    "        Dense(64, activation='relu', input_shape=input_shape),\n",
    "        Dropout(0.2),\n",
    "        Dense(32, activation='relu'),\n",
    "        Dropout(0.2),\n",
    "        Dense(1, activation='sigmoid')\n",
    "    ])\n",
    "    model.compile(optimizer=Adam(learning_rate=0.001), loss='binary_crossentropy', metrics=['accuracy'])\n",
    "    return model"
   ]
  },
  {
   "cell_type": "markdown",
   "metadata": {},
   "source": [
    "## 4. Model Training\n"
   ]
  },
  {
   "cell_type": "code",
   "execution_count": 5,
   "metadata": {},
   "outputs": [],
   "source": [
    "def train_model(model, X_train, y_train):\n",
    "    history = model.fit(X_train, y_train, epochs=100, batch_size=32, validation_split=0.2, verbose=0)\n",
    "    return history"
   ]
  },
  {
   "cell_type": "markdown",
   "metadata": {},
   "source": [
    "## 5. Question Generation\n"
   ]
  },
  {
   "cell_type": "code",
   "execution_count": 6,
   "metadata": {},
   "outputs": [],
   "source": [
    "def generate_question(model, scaler, question_type='multiple_choice'):\n",
    "    # Generate random input\n",
    "    input_data = np.random.rand(1, 4)\n",
    "    scaled_input = scaler.transform(input_data)\n",
    "    \n",
    "    # Predict extreme weather probability\n",
    "    predicted_prob = model.predict(scaled_input)[0][0]\n",
    "    \n",
    "    # Create question based on the prediction\n",
    "    if question_type == 'multiple_choice':\n",
    "        question = \"Given the following climate conditions:\\n\"\n",
    "        question += f\"Global Temperature Anomaly: {input_data[0][0]:.2f}°C\\n\"\n",
    "        question += f\"Ocean Temperature: {input_data[0][1]:.2f}°C\\n\"\n",
    "        question += f\"CO2 Levels: {input_data[0][2]:.2f} ppm\\n\"\n",
    "        question += f\"El Niño Index: {input_data[0][3]:.2f}\\n\\n\"\n",
    "        question += \"What is the most likely scenario for extreme weather events?\\n\"\n",
    "        \n",
    "        options = [\n",
    "            f\"A) High probability of extreme weather (>{predicted_prob+0.2:.2f})\",\n",
    "            f\"B) Moderate probability of extreme weather ({predicted_prob-0.1:.2f} - {predicted_prob+0.1:.2f})\",\n",
    "            f\"C) Low probability of extreme weather (<{predicted_prob-0.2:.2f})\",\n",
    "            \"D) No significant change in extreme weather patterns\"\n",
    "        ]\n",
    "        \n",
    "        correct_answer = 'B'\n",
    "        \n",
    "        return question, options, correct_answer\n",
    "    \n",
    "    elif question_type == 'true_false':\n",
    "        statement = \"Given the current climate conditions, \"\n",
    "        if predicted_prob > 0.5:\n",
    "            statement += \"there is a high likelihood of extreme weather events occurring.\"\n",
    "            correct_answer = True\n",
    "        else:\n",
    "            statement += \"the likelihood of extreme weather events is relatively low.\"\n",
    "            correct_answer = False\n",
    "        \n",
    "        return statement, correct_answer"
   ]
  },
  {
   "cell_type": "markdown",
   "metadata": {},
   "source": [
    "## 6. Main Execution\n"
   ]
  },
  {
   "cell_type": "code",
   "execution_count": 7,
   "metadata": {},
   "outputs": [
    {
     "name": "stderr",
     "output_type": "stream",
     "text": [
      "/Users/rajesh/.pyenv/versions/3.11.4/lib/python3.11/site-packages/keras/src/layers/core/dense.py:87: UserWarning: Do not pass an `input_shape`/`input_dim` argument to a layer. When using Sequential models, prefer using an `Input(shape)` object as the first layer in the model instead.\n",
      "  super().__init__(activity_regularizer=activity_regularizer, **kwargs)\n"
     ]
    },
    {
     "name": "stdout",
     "output_type": "stream",
     "text": [
      "Test Accuracy: 0.0000\n",
      "\n",
      "Multiple Choice Question:\n",
      "\u001B[1m1/1\u001B[0m \u001B[32m━━━━━━━━━━━━━━━━━━━━\u001B[0m\u001B[37m\u001B[0m \u001B[1m0s\u001B[0m 22ms/step\n",
      "Given the following climate conditions:\n",
      "Global Temperature Anomaly: 0.17°C\n",
      "Ocean Temperature: 0.19°C\n",
      "CO2 Levels: 0.46 ppm\n",
      "El Niño Index: 0.29\n",
      "\n",
      "What is the most likely scenario for extreme weather events?\n",
      "\n",
      "A) High probability of extreme weather (>0.20)\n",
      "B) Moderate probability of extreme weather (-0.10 - 0.10)\n",
      "C) Low probability of extreme weather (<-0.20)\n",
      "D) No significant change in extreme weather patterns\n",
      "Correct Answer: B\n",
      "\n",
      "True/False Question:\n",
      "\u001B[1m1/1\u001B[0m \u001B[32m━━━━━━━━━━━━━━━━━━━━\u001B[0m\u001B[37m\u001B[0m \u001B[1m0s\u001B[0m 12ms/step\n",
      "Given the current climate conditions, the likelihood of extreme weather events is relatively low.\n",
      "Correct Answer: False\n"
     ]
    },
    {
     "name": "stderr",
     "output_type": "stream",
     "text": [
      "/Users/rajesh/.pyenv/versions/3.11.4/lib/python3.11/site-packages/sklearn/base.py:493: UserWarning: X does not have valid feature names, but StandardScaler was fitted with feature names\n",
      "  warnings.warn(\n",
      "/Users/rajesh/.pyenv/versions/3.11.4/lib/python3.11/site-packages/sklearn/base.py:493: UserWarning: X does not have valid feature names, but StandardScaler was fitted with feature names\n",
      "  warnings.warn(\n"
     ]
    }
   ],
   "source": [
    "if __name__ == \"__main__\":\n",
    "    # Generate and preprocess data\n",
    "    data = generate_extreme_weather_data()\n",
    "    X_train, X_test, y_train, y_test, scaler = preprocess_data(data)\n",
    "    \n",
    "    # Create and train model\n",
    "    model = create_model((X_train.shape[1],))\n",
    "    history = train_model(model, X_train, y_train)\n",
    "    \n",
    "    # Evaluate model\n",
    "    test_loss, test_accuracy = model.evaluate(X_test, y_test, verbose=0)\n",
    "    print(f\"Test Accuracy: {test_accuracy:.4f}\")\n",
    "    \n",
    "    # Generate questions\n",
    "    print(\"\\nMultiple Choice Question:\")\n",
    "    mc_question, mc_options, mc_answer = generate_question(model, scaler, 'multiple_choice')\n",
    "    print(mc_question)\n",
    "    for option in mc_options:\n",
    "        print(option)\n",
    "    print(f\"Correct Answer: {mc_answer}\")\n",
    "    \n",
    "    print(\"\\nTrue/False Question:\")\n",
    "    tf_statement, tf_answer = generate_question(model, scaler, 'true_false')\n",
    "    print(tf_statement)\n",
    "    print(f\"Correct Answer: {tf_answer}\")"
   ]
  },
  {
   "cell_type": "markdown",
   "metadata": {},
   "source": [
    "## 7. Interactive Quiz Function\n"
   ]
  },
  {
   "cell_type": "code",
   "execution_count": 8,
   "metadata": {},
   "outputs": [],
   "source": [
    "def take_quiz(model, scaler, num_questions=5):\n",
    "    score = 0\n",
    "    for i in range(num_questions):\n",
    "        print(f\"\\nQuestion {i+1}:\")\n",
    "        if np.random.rand() > 0.5:\n",
    "            # Multiple Choice Question\n",
    "            question, options, correct_answer = generate_question(model, scaler, 'multiple_choice')\n",
    "            print(question)\n",
    "            for option in options:\n",
    "                print(option)\n",
    "            user_answer = input(\"Your answer (A/B/C/D): \").upper()\n",
    "            if user_answer == correct_answer:\n",
    "                print(\"Correct!\")\n",
    "                score += 1\n",
    "            else:\n",
    "                print(f\"Incorrect. The correct answer is {correct_answer}.\")\n",
    "        else:\n",
    "            # True/False Question\n",
    "            statement, correct_answer = generate_question(model, scaler, 'true_false')\n",
    "            print(statement)\n",
    "            user_answer = input(\"True or False? (T/F): \").upper() == 'T'\n",
    "            if user_answer == correct_answer:\n",
    "                print(\"Correct!\")\n",
    "                score += 1\n",
    "            else:\n",
    "                print(f\"Incorrect. The correct answer is {correct_answer}.\")\n",
    "    \n",
    "    print(f\"\\nQuiz completed! Your score: {score}/{num_questions}\")"
   ]
  },
  {
   "cell_type": "markdown",
   "metadata": {},
   "source": [
    "## 8. Run the quiz\n"
   ]
  },
  {
   "cell_type": "code",
   "execution_count": 9,
   "metadata": {},
   "outputs": [
    {
     "name": "stdout",
     "output_type": "stream",
     "text": [
      "\n",
      "Welcome to the Extreme Weather Events Quiz!\n",
      "\n",
      "Question 1:\n",
      "\u001B[1m1/1\u001B[0m \u001B[32m━━━━━━━━━━━━━━━━━━━━\u001B[0m\u001B[37m\u001B[0m \u001B[1m0s\u001B[0m 12ms/step\n"
     ]
    },
    {
     "name": "stderr",
     "output_type": "stream",
     "text": [
      "/Users/rajesh/.pyenv/versions/3.11.4/lib/python3.11/site-packages/sklearn/base.py:493: UserWarning: X does not have valid feature names, but StandardScaler was fitted with feature names\n",
      "  warnings.warn(\n"
     ]
    },
    {
     "name": "stdout",
     "output_type": "stream",
     "text": [
      "Given the current climate conditions, the likelihood of extreme weather events is relatively low.\n",
      "Incorrect. The correct answer is False.\n",
      "\n",
      "Question 2:\n",
      "\u001B[1m1/1\u001B[0m \u001B[32m━━━━━━━━━━━━━━━━━━━━\u001B[0m\u001B[37m\u001B[0m \u001B[1m0s\u001B[0m 14ms/step\n"
     ]
    },
    {
     "name": "stderr",
     "output_type": "stream",
     "text": [
      "/Users/rajesh/.pyenv/versions/3.11.4/lib/python3.11/site-packages/sklearn/base.py:493: UserWarning: X does not have valid feature names, but StandardScaler was fitted with feature names\n",
      "  warnings.warn(\n"
     ]
    },
    {
     "name": "stdout",
     "output_type": "stream",
     "text": [
      "Given the following climate conditions:\n",
      "Global Temperature Anomaly: 0.01°C\n",
      "Ocean Temperature: 0.52°C\n",
      "CO2 Levels: 0.04 ppm\n",
      "El Niño Index: 0.57\n",
      "\n",
      "What is the most likely scenario for extreme weather events?\n",
      "\n",
      "A) High probability of extreme weather (>0.20)\n",
      "B) Moderate probability of extreme weather (-0.10 - 0.10)\n",
      "C) Low probability of extreme weather (<-0.20)\n",
      "D) No significant change in extreme weather patterns\n",
      "Incorrect. The correct answer is B.\n",
      "\n",
      "Question 3:\n",
      "\u001B[1m1/1\u001B[0m \u001B[32m━━━━━━━━━━━━━━━━━━━━\u001B[0m\u001B[37m\u001B[0m \u001B[1m0s\u001B[0m 16ms/step\n"
     ]
    },
    {
     "name": "stderr",
     "output_type": "stream",
     "text": [
      "/Users/rajesh/.pyenv/versions/3.11.4/lib/python3.11/site-packages/sklearn/base.py:493: UserWarning: X does not have valid feature names, but StandardScaler was fitted with feature names\n",
      "  warnings.warn(\n"
     ]
    },
    {
     "name": "stdout",
     "output_type": "stream",
     "text": [
      "Given the following climate conditions:\n",
      "Global Temperature Anomaly: 0.97°C\n",
      "Ocean Temperature: 0.54°C\n",
      "CO2 Levels: 0.46 ppm\n",
      "El Niño Index: 0.95\n",
      "\n",
      "What is the most likely scenario for extreme weather events?\n",
      "\n",
      "A) High probability of extreme weather (>0.20)\n",
      "B) Moderate probability of extreme weather (-0.10 - 0.10)\n",
      "C) Low probability of extreme weather (<-0.20)\n",
      "D) No significant change in extreme weather patterns\n",
      "Correct!\n",
      "\n",
      "Question 4:\n",
      "\u001B[1m1/1\u001B[0m \u001B[32m━━━━━━━━━━━━━━━━━━━━\u001B[0m\u001B[37m\u001B[0m \u001B[1m0s\u001B[0m 10ms/step\n"
     ]
    },
    {
     "name": "stderr",
     "output_type": "stream",
     "text": [
      "/Users/rajesh/.pyenv/versions/3.11.4/lib/python3.11/site-packages/sklearn/base.py:493: UserWarning: X does not have valid feature names, but StandardScaler was fitted with feature names\n",
      "  warnings.warn(\n"
     ]
    },
    {
     "name": "stdout",
     "output_type": "stream",
     "text": [
      "Given the following climate conditions:\n",
      "Global Temperature Anomaly: 0.06°C\n",
      "Ocean Temperature: 0.47°C\n",
      "CO2 Levels: 0.24 ppm\n",
      "El Niño Index: 0.47\n",
      "\n",
      "What is the most likely scenario for extreme weather events?\n",
      "\n",
      "A) High probability of extreme weather (>0.20)\n",
      "B) Moderate probability of extreme weather (-0.10 - 0.10)\n",
      "C) Low probability of extreme weather (<-0.20)\n",
      "D) No significant change in extreme weather patterns\n",
      "Correct!\n",
      "\n",
      "Question 5:\n",
      "\u001B[1m1/1\u001B[0m \u001B[32m━━━━━━━━━━━━━━━━━━━━\u001B[0m\u001B[37m\u001B[0m \u001B[1m0s\u001B[0m 14ms/step\n"
     ]
    },
    {
     "name": "stderr",
     "output_type": "stream",
     "text": [
      "/Users/rajesh/.pyenv/versions/3.11.4/lib/python3.11/site-packages/sklearn/base.py:493: UserWarning: X does not have valid feature names, but StandardScaler was fitted with feature names\n",
      "  warnings.warn(\n"
     ]
    },
    {
     "name": "stdout",
     "output_type": "stream",
     "text": [
      "Given the current climate conditions, the likelihood of extreme weather events is relatively low.\n",
      "Correct!\n",
      "\n",
      "Quiz completed! Your score: 3/5\n"
     ]
    }
   ],
   "source": [
    "if __name__ == \"__main__\":\n",
    "    print(\"\\nWelcome to the Extreme Weather Events Quiz!\")\n",
    "    take_quiz(model, scaler)"
   ]
  }
 ],
 "metadata": {
  "kernelspec": {
   "display_name": "Python 3",
   "language": "python",
   "name": "python3"
  },
  "language_info": {
   "codemirror_mode": {
    "name": "ipython",
    "version": 3
   },
   "file_extension": ".py",
   "mimetype": "text/x-python",
   "name": "python",
   "nbconvert_exporter": "python",
   "pygments_lexer": "ipython3",
   "version": "3.11.4"
  }
 },
 "nbformat": 4,
 "nbformat_minor": 2
}
