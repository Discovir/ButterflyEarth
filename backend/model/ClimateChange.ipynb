{
 "cells": [
  {
   "cell_type": "code",
   "execution_count": 2,
   "metadata": {},
   "outputs": [],
   "source": [
    "import numpy as np\n",
    "import pandas as pd\n",
    "import tensorflow as tf\n",
    "from sklearn.model_selection import train_test_split\n",
    "from sklearn.preprocessing import StandardScaler\n",
    "from tensorflow.keras.models import Sequential\n",
    "from tensorflow.keras.layers import Dense, Dropout\n",
    "from tensorflow.keras.optimizers import Adam"
   ]
  },
  {
   "cell_type": "markdown",
   "metadata": {},
   "source": [
    "## 1. Data Generation (simulating climate change data)\n"
   ]
  },
  {
   "cell_type": "code",
   "execution_count": 3,
   "metadata": {},
   "outputs": [],
   "source": [
    "def generate_climate_data(n_samples=1000):\n",
    "    np.random.seed(42)\n",
    "    \n",
    "    # Features: deforestation_rate, industrial_emissions, solar_activity, time\n",
    "    deforestation_rate = np.random.uniform(0, 1, n_samples)\n",
    "    industrial_emissions = np.random.uniform(0, 100, n_samples)\n",
    "    solar_activity = np.random.normal(0, 1, n_samples)\n",
    "    time = np.linspace(0, 10, n_samples)\n",
    "    \n",
    "    # Target: temperature_change (simplified model)\n",
    "    temperature_change = (\n",
    "        0.3 * deforestation_rate +\n",
    "        0.5 * industrial_emissions +\n",
    "        0.1 * solar_activity +\n",
    "        0.1 * time +\n",
    "        np.random.normal(0, 0.1, n_samples)\n",
    "    )\n",
    "    temperature_change = (temperature_change - np.min(temperature_change)) / (np.max(temperature_change) - np.min(temperature_change))\n",
    "    \n",
    "    data = pd.DataFrame({\n",
    "        'deforestation_rate': deforestation_rate,\n",
    "        'industrial_emissions': industrial_emissions,\n",
    "        'solar_activity': solar_activity,\n",
    "        'time': time,\n",
    "        'temperature_change': temperature_change\n",
    "    })\n",
    "    \n",
    "    return data\n"
   ]
  },
  {
   "cell_type": "markdown",
   "metadata": {},
   "source": [
    "## 2. Data Preprocessing\n"
   ]
  },
  {
   "cell_type": "code",
   "execution_count": 4,
   "metadata": {},
   "outputs": [],
   "source": [
    "def preprocess_data(data):\n",
    "    X = data[['deforestation_rate', 'industrial_emissions', 'solar_activity', 'time']]\n",
    "    y = data['temperature_change']\n",
    "    \n",
    "    scaler = StandardScaler()\n",
    "    X_scaled = scaler.fit_transform(X)\n",
    "    \n",
    "    X_train, X_test, y_train, y_test = train_test_split(X_scaled, y, test_size=0.2, random_state=42)\n",
    "    \n",
    "    return X_train, X_test, y_train, y_test, scaler"
   ]
  },
  {
   "cell_type": "markdown",
   "metadata": {},
   "source": [
    "## 3. Model Creation\n"
   ]
  },
  {
   "cell_type": "code",
   "execution_count": 5,
   "metadata": {},
   "outputs": [],
   "source": [
    "def create_model(input_shape):\n",
    "    model = Sequential([\n",
    "        Dense(64, activation='relu', input_shape=input_shape),\n",
    "        Dropout(0.2),\n",
    "        Dense(32, activation='relu'),\n",
    "        Dropout(0.2),\n",
    "        Dense(1, activation='sigmoid')\n",
    "    ])\n",
    "    model.compile(optimizer=Adam(learning_rate=0.001), loss='mse', metrics=['mae'])\n",
    "    return model"
   ]
  },
  {
   "cell_type": "markdown",
   "metadata": {},
   "source": [
    "## 4. Model Training\n"
   ]
  },
  {
   "cell_type": "code",
   "execution_count": 6,
   "metadata": {},
   "outputs": [],
   "source": [
    "def train_model(model, X_train, y_train):\n",
    "    history = model.fit(X_train, y_train, epochs=100, batch_size=32, validation_split=0.2, verbose=0)\n",
    "    return history"
   ]
  },
  {
   "cell_type": "markdown",
   "metadata": {},
   "source": [
    "## 5. Question Generation\n"
   ]
  },
  {
   "cell_type": "code",
   "execution_count": 7,
   "metadata": {},
   "outputs": [],
   "source": [
    "def generate_question(model, scaler, question_type='multiple_choice'):\n",
    "    # Generate random input\n",
    "    input_data = np.random.rand(1, 4)\n",
    "    scaled_input = scaler.transform(input_data)\n",
    "    \n",
    "    # Predict temperature change\n",
    "    predicted_change = model.predict(scaled_input)[0][0]\n",
    "    \n",
    "    # Create question based on the prediction\n",
    "    if question_type == 'multiple_choice':\n",
    "        question = \"Given the following conditions:\\n\"\n",
    "        question += f\"Deforestation Rate: {input_data[0][0]:.2f}\\n\"\n",
    "        question += f\"Industrial Emissions: {input_data[0][1]:.2f}\\n\"\n",
    "        question += f\"Solar Activity: {input_data[0][2]:.2f}\\n\"\n",
    "        question += f\"Time Period: {input_data[0][3]:.2f} decades\\n\\n\"\n",
    "        question += \"What is the most likely impact on global temperature?\\n\"\n",
    "        \n",
    "        options = [\n",
    "            f\"A) High temperature increase (>{predicted_change+0.2:.2f}°C)\",\n",
    "            f\"B) Moderate temperature increase ({predicted_change-0.1:.2f}°C - {predicted_change+0.1:.2f}°C)\",\n",
    "            f\"C) Low temperature increase (<{predicted_change-0.2:.2f}°C)\",\n",
    "            \"D) No significant change in temperature\"\n",
    "        ]\n",
    "        \n",
    "        correct_answer = 'B'\n",
    "        \n",
    "        return question, options, correct_answer\n",
    "    \n",
    "    elif question_type == 'true_false':\n",
    "        statement = \"Given the environmental conditions, \"\n",
    "        if predicted_change > 0.5:\n",
    "            statement += \"the global temperature is likely to increase significantly.\"\n",
    "            correct_answer = True\n",
    "        else:\n",
    "            statement += \"the global temperature is likely to remain relatively stable.\"\n",
    "            correct_answer = False\n",
    "        \n",
    "        return statement, correct_answer"
   ]
  },
  {
   "cell_type": "markdown",
   "metadata": {},
   "source": [
    "## 6. Main Execution\n"
   ]
  },
  {
   "cell_type": "code",
   "execution_count": null,
   "metadata": {},
   "outputs": [],
   "source": [
    "if __name__ == \"__main__\":\n",
    "    # Generate and preprocess data\n",
    "    data = generate_climate_data()\n",
    "    X_train, X_test, y_train, y_test, scaler = preprocess_data(data)\n",
    "    \n",
    "    # Create and train model\n",
    "    model = create_model((X_train.shape[1],))\n",
    "    history = train_model(model, X_train, y_train)\n",
    "    \n",
    "    # Evaluate model\n",
    "    test_loss, test_mae = model.evaluate(X_test, y_test, verbose=0)\n",
    "    print(f\"Test MAE: {test_mae:.4f}\")\n",
    "    \n",
    "    # Generate questions\n",
    "    print(\"\\nMultiple Choice Question:\")\n",
    "    mc_question, mc_options, mc_answer = generate_question(model, scaler, 'multiple_choice')\n",
    "    print(mc_question)\n",
    "    for option in mc_options:\n",
    "        print(option)\n",
    "    print(f\"Correct Answer: {mc_answer}\")\n",
    "    \n",
    "    print(\"\\nTrue/False Question:\")\n",
    "    tf_statement, tf_answer = generate_question(model, scaler, 'true_false')\n",
    "    print(tf_statement)\n",
    "    print(f\"Correct Answer: {tf_answer}\")"
   ]
  },
  {
   "cell_type": "markdown",
   "metadata": {},
   "source": [
    "## 7. Interactive Quiz Function\n"
   ]
  },
  {
   "cell_type": "code",
   "execution_count": 9,
   "metadata": {},
   "outputs": [],
   "source": [
    "def take_quiz(model, scaler, num_questions=5):\n",
    "    score = 0\n",
    "    for i in range(num_questions):\n",
    "        print(f\"\\nQuestion {i+1}:\")\n",
    "        if np.random.rand() > 0.5:\n",
    "            # Multiple Choice Question\n",
    "            question, options, correct_answer = generate_question(model, scaler, 'multiple_choice')\n",
    "            print(question)\n",
    "            for option in options:\n",
    "                print(option)\n",
    "            user_answer = input(\"Your answer (A/B/C/D): \").upper()\n",
    "            if user_answer == correct_answer:\n",
    "                print(\"Correct!\")\n",
    "                score += 1\n",
    "            else:\n",
    "                print(f\"Incorrect. The correct answer is {correct_answer}.\")\n",
    "        else:\n",
    "            # True/False Question\n",
    "            statement, correct_answer = generate_question(model, scaler, 'true_false')\n",
    "            print(statement)\n",
    "            user_answer = input(\"True or False? (T/F): \").upper() == 'T'\n",
    "            if user_answer == correct_answer:\n",
    "                print(\"Correct!\")\n",
    "                score += 1\n",
    "            else:\n",
    "                print(f\"Incorrect. The correct answer is {correct_answer}.\")\n",
    "    \n",
    "    print(f\"\\nQuiz completed! Your score: {score}/{num_questions}\")"
   ]
  },
  {
   "cell_type": "markdown",
   "metadata": {},
   "source": [
    "## 8. Run the quiz\n"
   ]
  },
  {
   "cell_type": "code",
   "execution_count": null,
   "metadata": {},
   "outputs": [],
   "source": [
    "if __name__ == \"__main__\":\n",
    "    print(\"\\nWelcome to the Climate Change Impact Quiz!\")\n",
    "    take_quiz(model, scaler)"
   ]
  },
  {
   "cell_type": "markdown",
   "metadata": {},
   "source": [
    "## 9. Educational Information\n"
   ]
  },
  {
   "cell_type": "code",
   "execution_count": 11,
   "metadata": {},
   "outputs": [],
   "source": [
    "def provide_climate_change_info():\n",
    "    print(\"\\nClimate Change Information:\")\n",
    "    print(\"1. Deforestation and Climate Change:\")\n",
    "    print(\"   - Deforestation contributes to climate change by releasing stored carbon into the atmosphere.\")\n",
    "    print(\"   - Forests act as carbon sinks, absorbing CO2 from the atmosphere.\")\n",
    "    print(\"   - When forests are cleared, this carbon storage capacity is lost.\")\n",
    "    print(\"\\n2. Greenhouse Gas Emissions:\")\n",
    "    print(\"   - Industrial activities release greenhouse gases like CO2 into the atmosphere.\")\n",
    "    print(\"   - These gases trap heat, leading to global warming.\")\n",
    "    print(\"   - The concentration of CO2 in the atmosphere has increased significantly since the Industrial Revolution.\")\n",
    "    print(\"\\n3. Solar Activity:\")\n",
    "    print(\"   - While solar activity can influence Earth's climate, its effect is much smaller compared to human activities.\")\n",
    "    print(\"   - Changes in solar radiation contribute to natural climate variability.\")\n",
    "    print(\"\\n4. Time Factor:\")\n",
    "    print(\"   - Climate change effects accumulate over time.\")\n",
    "    print(\"   - Long-term trends are more significant than short-term fluctuations.\")\n",
    "    print(\"\\n5. Interconnected Systems:\")\n",
    "    print(\"   - Climate change can lead to various environmental impacts, including:\")\n",
    "    print(\"     * Rising sea levels\")\n",
    "    print(\"     * More frequent and intense extreme weather events\")\n",
    "    print(\"     * Changes in precipitation patterns\")\n",
    "    print(\"     * Impacts on biodiversity and ecosystems\")"
   ]
  },
  {
   "cell_type": "markdown",
   "metadata": {},
   "source": [
    "## 10. Run the educational program\n"
   ]
  },
  {
   "cell_type": "code",
   "execution_count": null,
   "metadata": {},
   "outputs": [],
   "source": [
    "if __name__ == \"__main__\":\n",
    "    print(\"\\nWelcome to the Climate Change Educational Program!\")\n",
    "    provide_climate_change_info()\n",
    "    input(\"\\nPress Enter to start the quiz...\")\n",
    "    take_quiz(model, scaler)"
   ]
  },
  {
   "metadata": {
    "ExecuteTime": {
     "end_time": "2024-10-11T11:57:27.278809Z",
     "start_time": "2024-10-11T11:57:22.976043Z"
    }
   },
   "cell_type": "code",
   "source": [
    "import joblib\n",
    "from sklearn.ensemble import RandomForestClassifier\n",
    "\n",
    "# Create a scikit-learn model\n",
    "model = RandomForestClassifier()\n",
    "\n",
    "# Train the model on your data\n",
    "\n",
    "# Save the model to a file\n",
    "joblib.dump(model, 'climate change.pkl')"
   ],
   "outputs": [
    {
     "data": {
      "text/plain": [
       "['climate change.pkl']"
      ]
     },
     "execution_count": 1,
     "metadata": {},
     "output_type": "execute_result"
    }
   ],
   "execution_count": 1
  },
  {
   "metadata": {},
   "cell_type": "code",
   "outputs": [],
   "execution_count": null,
   "source": ""
  }
 ],
 "metadata": {
  "kernelspec": {
   "display_name": ".venv",
   "language": "python",
   "name": "python3"
  },
  "language_info": {
   "codemirror_mode": {
    "name": "ipython",
    "version": 3
   },
   "file_extension": ".py",
   "mimetype": "text/x-python",
   "name": "python",
   "nbconvert_exporter": "python",
   "pygments_lexer": "ipython3",
   "version": "3.11.4"
  }
 },
 "nbformat": 4,
 "nbformat_minor": 2
}
