{
 "cells": [
  {
   "cell_type": "code",
   "execution_count": 1,
   "metadata": {},
   "outputs": [],
   "source": [
    "import numpy as np\n",
    "import pandas as pd\n",
    "import tensorflow as tf\n",
    "from sklearn.model_selection import train_test_split\n",
    "from sklearn.preprocessing import StandardScaler\n",
    "from tensorflow.keras.models import Sequential\n",
    "from tensorflow.keras.layers import Dense, Dropout\n",
    "from tensorflow.keras.optimizers import Adam"
   ]
  },
  {
   "cell_type": "markdown",
   "metadata": {},
   "source": [
    "## 1. Data Generation (simulating data for biodiversity loss)\n"
   ]
  },
  {
   "cell_type": "code",
   "execution_count": 2,
   "metadata": {},
   "outputs": [],
   "source": [
    "def generate_biodiversity_data(n_samples=1000):\n",
    "    np.random.seed(42)\n",
    "    \n",
    "    # Features: habitat_loss, pollution, climate_change, invasive_species, overexploitation\n",
    "    habitat_loss = np.random.uniform(0, 1, n_samples)\n",
    "    pollution = np.random.uniform(0, 1, n_samples)\n",
    "    climate_change = np.random.uniform(0, 1, n_samples)\n",
    "    invasive_species = np.random.uniform(0, 1, n_samples)\n",
    "    overexploitation = np.random.uniform(0, 1, n_samples)\n",
    "    \n",
    "    # Target: biodiversity_index (simplified model)\n",
    "    biodiversity_index = (\n",
    "        1 - (0.3 * habitat_loss +\n",
    "             0.2 * pollution +\n",
    "             0.2 * climate_change +\n",
    "             0.15 * invasive_species +\n",
    "             0.15 * overexploitation +\n",
    "             np.random.normal(0, 0.05, n_samples))\n",
    "    )\n",
    "    biodiversity_index = np.clip(biodiversity_index, 0, 1)\n",
    "    \n",
    "    data = pd.DataFrame({\n",
    "        'habitat_loss': habitat_loss,\n",
    "        'pollution': pollution,\n",
    "        'climate_change': climate_change,\n",
    "        'invasive_species': invasive_species,\n",
    "        'overexploitation': overexploitation,\n",
    "        'biodiversity_index': biodiversity_index\n",
    "    })\n",
    "    \n",
    "    return data"
   ]
  },
  {
   "cell_type": "markdown",
   "metadata": {},
   "source": [
    "## 2. Data Preprocessing\n"
   ]
  },
  {
   "cell_type": "code",
   "execution_count": 3,
   "metadata": {},
   "outputs": [],
   "source": [
    "def preprocess_data(data):\n",
    "    X = data[['habitat_loss', 'pollution', 'climate_change', 'invasive_species', 'overexploitation']]\n",
    "    y = data['biodiversity_index']\n",
    "    \n",
    "    scaler = StandardScaler()\n",
    "    X_scaled = scaler.fit_transform(X)\n",
    "    \n",
    "    X_train, X_test, y_train, y_test = train_test_split(X_scaled, y, test_size=0.2, random_state=42)\n",
    "    \n",
    "    return X_train, X_test, y_train, y_test, scaler"
   ]
  },
  {
   "cell_type": "markdown",
   "metadata": {},
   "source": [
    "## 3. Model Creation\n"
   ]
  },
  {
   "cell_type": "code",
   "execution_count": 4,
   "metadata": {},
   "outputs": [],
   "source": [
    "def create_model(input_shape):\n",
    "    model = Sequential([\n",
    "        Dense(64, activation='relu', input_shape=input_shape),\n",
    "        Dropout(0.2),\n",
    "        Dense(32, activation='relu'),\n",
    "        Dropout(0.2),\n",
    "        Dense(1, activation='sigmoid')\n",
    "    ])\n",
    "    model.compile(optimizer=Adam(learning_rate=0.001), loss='mse', metrics=['mae'])\n",
    "    return model"
   ]
  },
  {
   "cell_type": "markdown",
   "metadata": {},
   "source": [
    "## 4. Model Training\n"
   ]
  },
  {
   "cell_type": "code",
   "execution_count": 5,
   "metadata": {},
   "outputs": [],
   "source": [
    "def train_model(model, X_train, y_train):\n",
    "    history = model.fit(X_train, y_train, epochs=100, batch_size=32, validation_split=0.2, verbose=0)\n",
    "    return history"
   ]
  },
  {
   "cell_type": "markdown",
   "metadata": {},
   "source": [
    "## 5. Question Generation\n"
   ]
  },
  {
   "cell_type": "code",
   "execution_count": 6,
   "metadata": {},
   "outputs": [],
   "source": [
    "def generate_question(model, scaler, question_type='multiple_choice'):\n",
    "    # Generate random input\n",
    "    input_data = np.random.rand(1, 5)\n",
    "    scaled_input = scaler.transform(input_data)\n",
    "    \n",
    "    # Predict biodiversity index\n",
    "    predicted_index = model.predict(scaled_input)[0][0]\n",
    "    \n",
    "    # Create question based on the prediction\n",
    "    if question_type == 'multiple_choice':\n",
    "        question = \"Given the following environmental conditions:\\n\"\n",
    "        question += f\"Habitat Loss: {input_data[0][0]:.2f}\\n\"\n",
    "        question += f\"Pollution Level: {input_data[0][1]:.2f}\\n\"\n",
    "        question += f\"Climate Change Impact: {input_data[0][2]:.2f}\\n\"\n",
    "        question += f\"Invasive Species Presence: {input_data[0][3]:.2f}\\n\"\n",
    "        question += f\"Overexploitation: {input_data[0][4]:.2f}\\n\\n\"\n",
    "        question += \"What is the most likely impact on biodiversity?\\n\"\n",
    "        \n",
    "        options = [\n",
    "            f\"A) High biodiversity (index >{predicted_index+0.2:.2f})\",\n",
    "            f\"B) Moderate biodiversity (index {predicted_index-0.1:.2f} - {predicted_index+0.1:.2f})\",\n",
    "            f\"C) Low biodiversity (index <{predicted_index-0.2:.2f})\",\n",
    "            \"D) No significant impact on biodiversity\"\n",
    "        ]\n",
    "        \n",
    "        correct_answer = 'B'\n",
    "        \n",
    "        return question, options, correct_answer\n",
    "    \n",
    "    elif question_type == 'true_false':\n",
    "        statement = \"Given the environmental conditions, \"\n",
    "        if predicted_index > 0.5:\n",
    "            statement += \"the biodiversity index is likely to be high.\"\n",
    "            correct_answer = True\n",
    "        else:\n",
    "            statement += \"the biodiversity index is likely to be low.\"\n",
    "            correct_answer = False\n",
    "        \n",
    "        return statement, correct_answer"
   ]
  },
  {
   "cell_type": "markdown",
   "metadata": {},
   "source": [
    "## 6. Main Execution\n"
   ]
  },
  {
   "cell_type": "code",
   "execution_count": 7,
   "metadata": {},
   "outputs": [
    {
     "name": "stderr",
     "output_type": "stream",
     "text": [
      "/Users/rajesh/.pyenv/versions/3.11.4/lib/python3.11/site-packages/keras/src/layers/core/dense.py:87: UserWarning: Do not pass an `input_shape`/`input_dim` argument to a layer. When using Sequential models, prefer using an `Input(shape)` object as the first layer in the model instead.\n",
      "  super().__init__(activity_regularizer=activity_regularizer, **kwargs)\n"
     ]
    },
    {
     "name": "stdout",
     "output_type": "stream",
     "text": [
      "Test MAE: 0.0410\n",
      "\n",
      "Multiple Choice Question:\n",
      "\u001B[1m1/1\u001B[0m \u001B[32m━━━━━━━━━━━━━━━━━━━━\u001B[0m\u001B[37m\u001B[0m \u001B[1m0s\u001B[0m 21ms/step\n",
      "Given the following environmental conditions:\n",
      "Habitat Loss: 0.07\n",
      "Pollution Level: 0.55\n",
      "Climate Change Impact: 0.59\n",
      "Invasive Species Presence: 0.65\n",
      "Overexploitation: 0.26\n",
      "\n",
      "What is the most likely impact on biodiversity?\n",
      "\n",
      "A) High biodiversity (index >0.82)\n",
      "B) Moderate biodiversity (index 0.52 - 0.72)\n",
      "C) Low biodiversity (index <0.42)\n",
      "D) No significant impact on biodiversity\n",
      "Correct Answer: B\n",
      "\n",
      "True/False Question:\n",
      "\u001B[1m1/1\u001B[0m \u001B[32m━━━━━━━━━━━━━━━━━━━━\u001B[0m\u001B[37m\u001B[0m \u001B[1m0s\u001B[0m 11ms/step\n",
      "Given the environmental conditions, the biodiversity index is likely to be low.\n",
      "Correct Answer: False\n"
     ]
    },
    {
     "name": "stderr",
     "output_type": "stream",
     "text": [
      "/Users/rajesh/.pyenv/versions/3.11.4/lib/python3.11/site-packages/sklearn/base.py:493: UserWarning: X does not have valid feature names, but StandardScaler was fitted with feature names\n",
      "  warnings.warn(\n",
      "/Users/rajesh/.pyenv/versions/3.11.4/lib/python3.11/site-packages/sklearn/base.py:493: UserWarning: X does not have valid feature names, but StandardScaler was fitted with feature names\n",
      "  warnings.warn(\n"
     ]
    }
   ],
   "source": [
    "if __name__ == \"__main__\":\n",
    "    # Generate and preprocess data\n",
    "    data = generate_biodiversity_data()\n",
    "    X_train, X_test, y_train, y_test, scaler = preprocess_data(data)\n",
    "    \n",
    "    # Create and train model\n",
    "    model = create_model((X_train.shape[1],))\n",
    "    history = train_model(model, X_train, y_train)\n",
    "    \n",
    "    # Evaluate model\n",
    "    test_loss, test_mae = model.evaluate(X_test, y_test, verbose=0)\n",
    "    print(f\"Test MAE: {test_mae:.4f}\")\n",
    "    \n",
    "    # Generate questions\n",
    "    print(\"\\nMultiple Choice Question:\")\n",
    "    mc_question, mc_options, mc_answer = generate_question(model, scaler, 'multiple_choice')\n",
    "    print(mc_question)\n",
    "    for option in mc_options:\n",
    "        print(option)\n",
    "    print(f\"Correct Answer: {mc_answer}\")\n",
    "    \n",
    "    print(\"\\nTrue/False Question:\")\n",
    "    tf_statement, tf_answer = generate_question(model, scaler, 'true_false')\n",
    "    print(tf_statement)\n",
    "    print(f\"Correct Answer: {tf_answer}\")"
   ]
  },
  {
   "cell_type": "markdown",
   "metadata": {},
   "source": [
    "## 7. Interactive Quiz Function\n"
   ]
  },
  {
   "cell_type": "code",
   "execution_count": 8,
   "metadata": {},
   "outputs": [],
   "source": [
    "def take_quiz(model, scaler, num_questions=5):\n",
    "    score = 0\n",
    "    for i in range(num_questions):\n",
    "        print(f\"\\nQuestion {i+1}:\")\n",
    "        if np.random.rand() > 0.5:\n",
    "            # Multiple Choice Question\n",
    "            question, options, correct_answer = generate_question(model, scaler, 'multiple_choice')\n",
    "            print(question)\n",
    "            for option in options:\n",
    "                print(option)\n",
    "            user_answer = input(\"Your answer (A/B/C/D): \").upper()\n",
    "            if user_answer == correct_answer:\n",
    "                print(\"Correct!\")\n",
    "                score += 1\n",
    "            else:\n",
    "                print(f\"Incorrect. The correct answer is {correct_answer}.\")\n",
    "        else:\n",
    "            # True/False Question\n",
    "            statement, correct_answer = generate_question(model, scaler, 'true_false')\n",
    "            print(statement)\n",
    "            user_answer = input(\"True or False? (T/F): \").upper() == 'T'\n",
    "            if user_answer == correct_answer:\n",
    "                print(\"Correct!\")\n",
    "                score += 1\n",
    "            else:\n",
    "                print(f\"Incorrect. The correct answer is {correct_answer}.\")\n",
    "    \n",
    "    print(f\"\\nQuiz completed! Your score: {score}/{num_questions}\")"
   ]
  },
  {
   "cell_type": "markdown",
   "metadata": {},
   "source": [
    "## 8. Run the quiz\n"
   ]
  },
  {
   "cell_type": "code",
   "execution_count": 9,
   "metadata": {},
   "outputs": [
    {
     "name": "stdout",
     "output_type": "stream",
     "text": [
      "\n",
      "Welcome to the Biodiversity Loss Impact Quiz!\n",
      "\n",
      "Question 1:\n",
      "\u001B[1m1/1\u001B[0m \u001B[32m━━━━━━━━━━━━━━━━━━━━\u001B[0m\u001B[37m\u001B[0m \u001B[1m0s\u001B[0m 13ms/step\n"
     ]
    },
    {
     "name": "stderr",
     "output_type": "stream",
     "text": [
      "/Users/rajesh/.pyenv/versions/3.11.4/lib/python3.11/site-packages/sklearn/base.py:493: UserWarning: X does not have valid feature names, but StandardScaler was fitted with feature names\n",
      "  warnings.warn(\n"
     ]
    },
    {
     "name": "stdout",
     "output_type": "stream",
     "text": [
      "Given the following environmental conditions:\n",
      "Habitat Loss: 0.71\n",
      "Pollution Level: 0.21\n",
      "Climate Change Impact: 0.57\n",
      "Invasive Species Presence: 0.87\n",
      "Overexploitation: 0.43\n",
      "\n",
      "What is the most likely impact on biodiversity?\n",
      "\n",
      "A) High biodiversity (index >0.64)\n",
      "B) Moderate biodiversity (index 0.34 - 0.54)\n",
      "C) Low biodiversity (index <0.24)\n",
      "D) No significant impact on biodiversity\n",
      "Incorrect. The correct answer is B.\n",
      "\n",
      "Question 2:\n",
      "\u001B[1m1/1\u001B[0m \u001B[32m━━━━━━━━━━━━━━━━━━━━\u001B[0m\u001B[37m\u001B[0m \u001B[1m0s\u001B[0m 15ms/step\n"
     ]
    },
    {
     "name": "stderr",
     "output_type": "stream",
     "text": [
      "/Users/rajesh/.pyenv/versions/3.11.4/lib/python3.11/site-packages/sklearn/base.py:493: UserWarning: X does not have valid feature names, but StandardScaler was fitted with feature names\n",
      "  warnings.warn(\n"
     ]
    },
    {
     "name": "stdout",
     "output_type": "stream",
     "text": [
      "Given the following environmental conditions:\n",
      "Habitat Loss: 0.45\n",
      "Pollution Level: 0.14\n",
      "Climate Change Impact: 0.39\n",
      "Invasive Species Presence: 0.95\n",
      "Overexploitation: 0.32\n",
      "\n",
      "What is the most likely impact on biodiversity?\n",
      "\n",
      "A) High biodiversity (index >0.77)\n",
      "B) Moderate biodiversity (index 0.47 - 0.67)\n",
      "C) Low biodiversity (index <0.37)\n",
      "D) No significant impact on biodiversity\n",
      "Incorrect. The correct answer is B.\n",
      "\n",
      "Question 3:\n",
      "\u001B[1m1/1\u001B[0m \u001B[32m━━━━━━━━━━━━━━━━━━━━\u001B[0m\u001B[37m\u001B[0m \u001B[1m0s\u001B[0m 15ms/step\n"
     ]
    },
    {
     "name": "stderr",
     "output_type": "stream",
     "text": [
      "/Users/rajesh/.pyenv/versions/3.11.4/lib/python3.11/site-packages/sklearn/base.py:493: UserWarning: X does not have valid feature names, but StandardScaler was fitted with feature names\n",
      "  warnings.warn(\n"
     ]
    },
    {
     "name": "stdout",
     "output_type": "stream",
     "text": [
      "Given the following environmental conditions:\n",
      "Habitat Loss: 0.88\n",
      "Pollution Level: 0.35\n",
      "Climate Change Impact: 0.08\n",
      "Invasive Species Presence: 0.72\n",
      "Overexploitation: 0.31\n",
      "\n",
      "What is the most likely impact on biodiversity?\n",
      "\n",
      "A) High biodiversity (index >0.69)\n",
      "B) Moderate biodiversity (index 0.39 - 0.59)\n",
      "C) Low biodiversity (index <0.29)\n",
      "D) No significant impact on biodiversity\n",
      "Incorrect. The correct answer is B.\n",
      "\n",
      "Question 4:\n",
      "\u001B[1m1/1\u001B[0m \u001B[32m━━━━━━━━━━━━━━━━━━━━\u001B[0m\u001B[37m\u001B[0m \u001B[1m0s\u001B[0m 12ms/step\n"
     ]
    },
    {
     "name": "stderr",
     "output_type": "stream",
     "text": [
      "/Users/rajesh/.pyenv/versions/3.11.4/lib/python3.11/site-packages/sklearn/base.py:493: UserWarning: X does not have valid feature names, but StandardScaler was fitted with feature names\n",
      "  warnings.warn(\n"
     ]
    },
    {
     "name": "stdout",
     "output_type": "stream",
     "text": [
      "Given the following environmental conditions:\n",
      "Habitat Loss: 0.44\n",
      "Pollution Level: 0.49\n",
      "Climate Change Impact: 0.78\n",
      "Invasive Species Presence: 0.38\n",
      "Overexploitation: 0.44\n",
      "\n",
      "What is the most likely impact on biodiversity?\n",
      "\n",
      "A) High biodiversity (index >0.69)\n",
      "B) Moderate biodiversity (index 0.39 - 0.59)\n",
      "C) Low biodiversity (index <0.29)\n",
      "D) No significant impact on biodiversity\n",
      "Incorrect. The correct answer is B.\n",
      "\n",
      "Question 5:\n",
      "\u001B[1m1/1\u001B[0m \u001B[32m━━━━━━━━━━━━━━━━━━━━\u001B[0m\u001B[37m\u001B[0m \u001B[1m0s\u001B[0m 12ms/step\n"
     ]
    },
    {
     "name": "stderr",
     "output_type": "stream",
     "text": [
      "/Users/rajesh/.pyenv/versions/3.11.4/lib/python3.11/site-packages/sklearn/base.py:493: UserWarning: X does not have valid feature names, but StandardScaler was fitted with feature names\n",
      "  warnings.warn(\n"
     ]
    },
    {
     "name": "stdout",
     "output_type": "stream",
     "text": [
      "Given the environmental conditions, the biodiversity index is likely to be low.\n",
      "Correct!\n",
      "\n",
      "Quiz completed! Your score: 1/5\n"
     ]
    }
   ],
   "source": [
    "if __name__ == \"__main__\":\n",
    "    print(\"\\nWelcome to the Biodiversity Loss Impact Quiz!\")\n",
    "    take_quiz(model, scaler)"
   ]
  },
  {
   "cell_type": "markdown",
   "metadata": {},
   "source": [
    "## 9. Educational Information\n"
   ]
  },
  {
   "cell_type": "code",
   "execution_count": 10,
   "metadata": {},
   "outputs": [],
   "source": [
    "def display_biodiversity_info():\n",
    "    print(\"\\nBiodiversity Loss: Key Points\")\n",
    "    print(\"1. Definition: Biodiversity loss refers to the reduction of variety in living species within an ecosystem.\")\n",
    "    print(\"2. Main Causes:\")\n",
    "    print(\"   - Habitat Loss: Destruction of natural environments\")\n",
    "    print(\"   - Pollution: Contamination of air, water, and soil\")\n",
    "    print(\"   - Climate Change: Altering temperature and weather patterns\")\n",
    "    print(\"   - Invasive Species: Non-native species outcompeting local ones\")\n",
    "    print(\"   - Overexploitation: Excessive hunting, fishing, or harvesting\")\n",
    "    print(\"3. Impacts:\")\n",
    "    print(\"   - Ecosystem Instability: Reduced resilience to environmental changes\")\n",
    "    print(\"   - Loss of Ecosystem Services: Affecting water purification, pollination, etc.\")\n",
    "    print(\"   - Economic Losses: Impacting industries like agriculture and tourism\")\n",
    "    print(\"   - Health Risks: Potential increase in zoonotic diseases\")\n",
    "    print(\"4. Conservation Efforts:\")\n",
    "    print(\"   - Protected Areas: Establishing and maintaining nature reserves\")\n",
    "    print(\"   - Sustainable Practices: Promoting responsible resource use\")\n",
    "    print(\"   - Restoration Projects: Rehabilitating damaged ecosystems\")\n",
    "    print(\"   - Education: Raising awareness about biodiversity importance\")\n",
    "    print(\"\\nUnderstanding these factors is crucial for addressing biodiversity loss effectively.\")\n"
   ]
  },
  {
   "cell_type": "markdown",
   "metadata": {},
   "source": [
    "## 10. Extended Main Execution\n"
   ]
  },
  {
   "cell_type": "code",
   "execution_count": 11,
   "metadata": {},
   "outputs": [
    {
     "name": "stdout",
     "output_type": "stream",
     "text": [
      "\n",
      "Welcome to the Biodiversity Loss Educational Program!\n",
      "\n",
      "Choose an option:\n",
      "1. Take a quiz\n",
      "2. Learn about biodiversity loss\n",
      "3. Exit\n",
      "Invalid choice. Please try again.\n",
      "\n",
      "Choose an option:\n",
      "1. Take a quiz\n",
      "2. Learn about biodiversity loss\n",
      "3. Exit\n",
      "Invalid choice. Please try again.\n",
      "\n",
      "Choose an option:\n",
      "1. Take a quiz\n",
      "2. Learn about biodiversity loss\n",
      "3. Exit\n",
      "Invalid choice. Please try again.\n",
      "\n",
      "Choose an option:\n",
      "1. Take a quiz\n",
      "2. Learn about biodiversity loss\n",
      "3. Exit\n",
      "Thank you for learning about biodiversity loss. Goodbye!\n"
     ]
    }
   ],
   "source": [
    "if __name__ == \"__main__\":\n",
    "    print(\"\\nWelcome to the Biodiversity Loss Educational Program!\")\n",
    "    \n",
    "    while True:\n",
    "        print(\"\\nChoose an option:\")\n",
    "        print(\"1. Take a quiz\")\n",
    "        print(\"2. Learn about biodiversity loss\")\n",
    "        print(\"3. Exit\")\n",
    "        \n",
    "        choice = input(\"Enter your choice (1/2/3): \")\n",
    "        \n",
    "        if choice == '1':\n",
    "            take_quiz(model, scaler)\n",
    "        elif choice == '2':\n",
    "            display_biodiversity_info()\n",
    "        elif choice == '3':\n",
    "            print(\"Thank You. Goodbye!\")\n",
    "            break\n",
    "        else:\n",
    "            print(\"Invalid choice. Please try again.\")"
   ]
  },
  {
   "metadata": {
    "ExecuteTime": {
     "end_time": "2024-10-11T11:56:38.938869Z",
     "start_time": "2024-10-11T11:56:38.927231Z"
    }
   },
   "cell_type": "code",
   "source": [
    "import joblib\n",
    "from sklearn.ensemble import RandomForestClassifier\n",
    "\n",
    "# Create a scikit-learn model\n",
    "model = RandomForestClassifier()\n",
    "\n",
    "# Train the model on your data\n",
    "\n",
    "# Save the model to a file\n",
    "joblib.dump(model, 'BL.pkl')"
   ],
   "outputs": [
    {
     "data": {
      "text/plain": [
       "['BL.pkl']"
      ]
     },
     "execution_count": 2,
     "metadata": {},
     "output_type": "execute_result"
    }
   ],
   "execution_count": 2
  },
  {
   "metadata": {},
   "cell_type": "code",
   "outputs": [],
   "execution_count": null,
   "source": ""
  }
 ],
 "metadata": {
  "kernelspec": {
   "display_name": "Python 3",
   "language": "python",
   "name": "python3"
  },
  "language_info": {
   "codemirror_mode": {
    "name": "ipython",
    "version": 3
   },
   "file_extension": ".py",
   "mimetype": "text/x-python",
   "name": "python",
   "nbconvert_exporter": "python",
   "pygments_lexer": "ipython3",
   "version": "3.11.4"
  }
 },
 "nbformat": 4,
 "nbformat_minor": 2
}
